{
 "cells": [
  {
   "cell_type": "markdown",
   "metadata": {},
   "source": [
    "# Banc Statique <br>\n",
    "### STAGE ANCHES <br>\n",
    "Camille Urban <br>\n",
    "05/07/2024"
   ]
  },
  {
   "cell_type": "code",
   "execution_count": 1,
   "metadata": {},
   "outputs": [],
   "source": [
    "import numpy as np\n",
    "import matplotlib.pyplot as plt\n",
    "import pandas as pd\n",
    "import cv2\n",
    "import os"
   ]
  },
  {
   "cell_type": "code",
   "execution_count": 2,
   "metadata": {},
   "outputs": [
    {
     "name": "stdout",
     "output_type": "stream",
     "text": [
      "Using matplotlib backend: <object object at 0x00000201958A22F0>\n",
      "Using matplotlib backend: TkAgg\n"
     ]
    }
   ],
   "source": [
    "%matplotlib\n",
    "%matplotlib"
   ]
  },
  {
   "cell_type": "markdown",
   "metadata": {},
   "source": [
    "# Paramètres"
   ]
  },
  {
   "cell_type": "code",
   "execution_count": 3,
   "metadata": {},
   "outputs": [],
   "source": [
    "# SENSIBILITE CAPTEUR\n",
    "# S_force_bs =       # bs pour banc statique, sensibilité en N/mV\n",
    "G_force_bs = 900        # gain du banc de mesure\n",
    "\n",
    "# cannal d'acquisition\n",
    "# Cannal 2 \n",
    "\n",
    "seuil = 150"
   ]
  },
  {
   "cell_type": "code",
   "execution_count": 4,
   "metadata": {},
   "outputs": [],
   "source": [
    "dossier = '2024.05.30'\n",
    "imag = '/image_'"
   ]
  },
  {
   "cell_type": "markdown",
   "metadata": {},
   "source": [
    "# Fonctions"
   ]
  },
  {
   "cell_type": "code",
   "execution_count": 5,
   "metadata": {},
   "outputs": [],
   "source": [
    "def bord_anche(image):\n",
    "    points = []\n",
    "    I = np.flipud(image)\n",
    "    (H, W) = I.shape\n",
    "    # print(H,W)\n",
    "    plt.imshow(I, cmap='gray', extent=[0, W, H, 0])\n",
    "    plt.axis('equal')\n",
    "    plt.xlim(0, W)\n",
    "    plt.ylim(0, H)\n",
    "    plt.title(\"Cliquez sur les bords de l'anche\")\n",
    "    coord_anche = plt.ginput(2)\n",
    "    plt.close()\n",
    "    return coord_anche"
   ]
  },
  {
   "cell_type": "code",
   "execution_count": 6,
   "metadata": {},
   "outputs": [],
   "source": [
    "# FONCTION DE ROTATION D'IMAGE \n",
    "# entrée : une image\n",
    "# ginput : bord gauche et bord droit du bec\n",
    "# sortie : angle de rotation, image J après rotation, coordonées des points selectionnés\n",
    "def rotate(image, coord):\n",
    "    # Calculer l'angle pour aligner l'image\n",
    "    (x1, y1), (x2, y2) = coord\n",
    "    rot_angle = np.degrees(np.arctan2(y2 - y1, x2 - x1))\n",
    "    # Calculer le centre de l'image\n",
    "    (h, w) = image.shape\n",
    "    center = (w // 2, h // 2)\n",
    "\n",
    "    # Créer une matrice de rotation centrale\n",
    "    rot_mat = cv2.getRotationMatrix2D(center, rot_angle, 1.0)\n",
    "\n",
    "    # Appliquer la rotation\n",
    "    img_rot = cv2.warpAffine(image, rot_mat, (w, h), flags=cv2.INTER_LINEAR, borderMode=cv2.BORDER_CONSTANT, borderValue=255)\n",
    "    return rot_mat, img_rot\n"
   ]
  },
  {
   "cell_type": "code",
   "execution_count": 7,
   "metadata": {},
   "outputs": [],
   "source": [
    "# ROGNER IMAGE\n",
    "# entrée : image, coordonées du bec (_,_, xy_bec = im_rotate(J))\n",
    "def rogner(image, coord):\n",
    "    # img_rogn = np.flipud(image)\n",
    "    x_BG = coord[0][0]\n",
    "    y_BG = coord[0][1] \n",
    "    x_BD = coord[1][0]\n",
    "    y_BD = coord[1][1]\n",
    "    \n",
    "        # bornes \n",
    "    wmin = int(x_BG)-20     # width min\n",
    "    wmax = int(x_BD)+20\n",
    "    hmin = int(y_BG-50)     # height min\n",
    "    hmax = int(y_BG+350)\n",
    "    img_rogn = image[hmin:hmax, wmin:wmax] \n",
    "    \n",
    "    return img_rogn"
   ]
  },
  {
   "cell_type": "code",
   "execution_count": 8,
   "metadata": {},
   "outputs": [],
   "source": [
    "def deplacement_profil(image, seuil, coord):\n",
    "    # s'assurer que I est bien en binaire\n",
    "    _, I = cv2.threshold(image, seuil, 255, cv2.THRESH_BINARY)\n",
    "    \n",
    "    # coord = bord_anche(image)\n",
    "        \n",
    "    (x1, y1), (x2, y2) = map(lambda p: (int(p[0]), int(p[1])), coord)\n",
    "    # initialisation matrices vides\n",
    "    Xv = np.arange(x1, x2, dtype=int)   # vecteur de la taille de la largeur de l'image coupée\n",
    "    Yv = []\n",
    "\n",
    "# PROBLEME POUR GENERALISER A UNE TRANCHE ENTIERE\n",
    "    for xv in Xv:\n",
    "        Iv = I[:, xv].astype(float)   # vecteur qui contient une tranche de l'image largeur 1 (x) et hauteur de l'image (y)\n",
    "        Iv_2 = np.round(np.gradient(Iv)).astype(int)     # Dérivée centrée (flottante) + Arrondir + convertir en entiers\n",
    "\n",
    "        # seuillage trance par tranche\n",
    "        smin = -30\n",
    "        pos2 = np.where(Iv_2 < smin)[0][-1] if any(Iv_2 < smin) else None\n",
    "        H = I.shape[0]\n",
    "        Y = np.arange(1,H+1)\n",
    "    \n",
    "        if pos2 is not None:\n",
    "            Yv.append(Y[pos2])\n",
    "        else:\n",
    "            Yv.append(np.nan)\n",
    "    \n",
    "    plot_fig = True\n",
    "    if plot_fig :\n",
    "        plt.figure()\n",
    "        plt.imshow(image, cmap='gray')\n",
    "        plt.plot(Xv, Yv, 'm.-', linewidth=0.1)\n",
    "            \n",
    "    return Xv, Yv\n",
    "\n"
   ]
  },
  {
   "cell_type": "code",
   "execution_count": 9,
   "metadata": {},
   "outputs": [],
   "source": [
    "# I = cv2.imread(dossier + imag + '0_0.jpg', cv2.IMREAD_GRAYSCALE)\n",
    "# _, I = cv2.threshold(I, seuil, 255, cv2.THRESH_BINARY)\n",
    "# I = I.astype(np.float32)\n",
    "\n",
    "# xy_anche = bord_anche(I)\n",
    "# rot_mat, I_rot = rotate(I, xy_anche)\n",
    "# I_rogn = rogner(I_rot, xy_anche)\n",
    "# # plt.imshow(I_rogn, cmap='gray')\n"
   ]
  },
  {
   "cell_type": "code",
   "execution_count": 10,
   "metadata": {},
   "outputs": [],
   "source": [
    "# coord = bord_anche(I_rogn)\n",
    "# Xv, Yv = deplacement_profil(I_rogn, seuil, coord)"
   ]
  },
  {
   "cell_type": "code",
   "execution_count": 12,
   "metadata": {},
   "outputs": [
    {
     "name": "stderr",
     "output_type": "stream",
     "text": [
      "C:\\Users\\Admin\\AppData\\Local\\Temp\\ipykernel_14824\\255901586.py:30: RuntimeWarning: More than 20 figures have been opened. Figures created through the pyplot interface (`matplotlib.pyplot.figure`) are retained until explicitly closed and may consume too much memory. (To control this warning, see the rcParam `figure.max_open_warning`). Consider using `matplotlib.pyplot.close()`.\n",
      "  plt.figure()\n"
     ]
    }
   ],
   "source": [
    "plt.close('all')\n",
    "\n",
    "# Initialisation sur une image\n",
    "\n",
    "# Lecture de l'image en nuance de gris, mise en noir et blanc\n",
    "I = cv2.imread(dossier + imag + '0_0.jpg', cv2.IMREAD_GRAYSCALE)\n",
    "_, I = cv2.threshold(I, seuil, 255, cv2.THRESH_BINARY)\n",
    "I = I.astype(np.float32)\n",
    "\n",
    "xy_anche = bord_anche(I)\n",
    "rot_mat, I_rot = rotate(I, xy_anche)\n",
    "I_rogn = rogner(I_rot, xy_anche)\n",
    "coord_rogn = bord_anche(I_rogn)\n",
    "\n",
    "Ys = 13\n",
    "Zs = 21\n",
    "pas_z = 0.05 #mm\n",
    "(w, h) = I_rogn.shape\n",
    "\n",
    "# Import data\n",
    "for y in range(Ys):\n",
    "    with open(dossier + f'/profil{y}.txt', 'w') as file:\n",
    "        for z in range(Zs):\n",
    "            img_path = dossier + imag + f'{y}_{z}.jpg'\n",
    "            if not os.path.exists(img_path):\n",
    "                continue\n",
    "            img = cv2.imread(img_path, cv2.IMREAD_GRAYSCALE)\n",
    "            _, img = cv2.threshold(img, seuil, 255, cv2.THRESH_BINARY)\n",
    "            img = img.astype(np.float32)\n",
    "            _, img_rot = rotate(img, xy_anche)\n",
    "            img_rogn =  rogner(img_rot, xy_anche)\n",
    "            \n",
    "            Xv , Yv = deplacement_profil(img_rogn, seuil, coord_rogn)\n",
    "            \n",
    "            plot_fig = False\n",
    "            if plot_fig :\n",
    "                plt.figure()\n",
    "                plt.imshow(img_rogn, cmap='gray')\n",
    "                plt.plot(Xv, Yv, 'm.-', linewidth=0.1)\n",
    "\n",
    "            # file.write(str(dim_canal) + '\\n')\n",
    "    "
   ]
  }
 ],
 "metadata": {
  "kernelspec": {
   "display_name": "Python 3",
   "language": "python",
   "name": "python3"
  },
  "language_info": {
   "codemirror_mode": {
    "name": "ipython",
    "version": 3
   },
   "file_extension": ".py",
   "mimetype": "text/x-python",
   "name": "python",
   "nbconvert_exporter": "python",
   "pygments_lexer": "ipython3",
   "version": "3.10.8"
  }
 },
 "nbformat": 4,
 "nbformat_minor": 2
}
