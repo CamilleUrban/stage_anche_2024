{
 "cells": [
  {
   "cell_type": "markdown",
   "metadata": {},
   "source": [
    "# MAD Statique <br>\n",
    "### STAGE ANCHES <br>\n",
    "Camille Urban <br>\n",
    "22/03/2024"
   ]
  },
  {
   "cell_type": "code",
   "execution_count": 2,
   "metadata": {},
   "outputs": [],
   "source": [
    "import numpy as np\n",
    "import matplotlib.pyplot as plt\n",
    "from scipy.optimize import curve_fit\n",
    "\n"
   ]
  },
  {
   "cell_type": "code",
   "execution_count": 3,
   "metadata": {},
   "outputs": [
    {
     "name": "stdout",
     "output_type": "stream",
     "text": [
      "Using matplotlib backend: <object object at 0x0000027B0E0A71B0>\n",
      "Using matplotlib backend: TkAgg\n"
     ]
    }
   ],
   "source": [
    "%matplotlib\n",
    "%matplotlib"
   ]
  },
  {
   "cell_type": "markdown",
   "metadata": {},
   "source": [
    "## Paramètres du Banc"
   ]
  },
  {
   "cell_type": "code",
   "execution_count": 4,
   "metadata": {},
   "outputs": [],
   "source": [
    "# SENSIBILITE CAPTEUR\n",
    "S_force =  39.2  # mV/N\n",
    "G_force = 100\n",
    "\n",
    "# cannal d'acquisition\n",
    "Cannal = 1"
   ]
  },
  {
   "cell_type": "code",
   "execution_count": 5,
   "metadata": {},
   "outputs": [],
   "source": [
    "dossier = 'mes_2024.03.22'\n",
    "nom_anche = '/A'\n",
    "nbr_anche = 3\n",
    "seuil = 150"
   ]
  },
  {
   "cell_type": "markdown",
   "metadata": {},
   "source": [
    "## Fonctions Modélisations"
   ]
  },
  {
   "cell_type": "code",
   "execution_count": 6,
   "metadata": {},
   "outputs": [],
   "source": [
    "# Caracteristique non lineaire S(p)\n",
    "# p : Pression dans la bouche\n",
    "# S00 : Ouverture a p=0\n",
    "# pM : Pression de plaquage\n",
    "# Coude : Etendue de la partie coude en Pa\n",
    "# Fuite : Ouverture equivalente a la fuite\n",
    "\n",
    "\n",
    "def caracNL_BG(p, S00, pM, Pb, SL):\n",
    "    p = p - min(p)\n",
    "    # S00 = param[0]\n",
    "    # pM = param[1]\n",
    "    # Pb = param[2]\n",
    "    # SL = param[3]\n",
    "\n",
    "    # Calcul de la pente de la droite linéaire\n",
    "    C = S00 / pM\n",
    "    PprimeM = (S00 - SL) / C\n",
    "    A = (S00 - SL) / (4 * Pb * PprimeM)\n",
    "\n",
    "    pb1 = PprimeM - Pb  # pression début coude\n",
    "    pb2 = PprimeM + Pb  # pression fin coude\n",
    "\n",
    "    # Création des indices pour différentes parties de la courbe\n",
    "    ind1 = np.argwhere(p <= pb1)  # partie linéaire\n",
    "    ind2 = np.argwhere((p > pb1) & (p < pb2))  # coude\n",
    "    ind3 = np.argwhere(p >= pb2)  # fuite\n",
    "\n",
    "    # Initialisation de la section S\n",
    "    S = np.zeros_like(p)\n",
    "    # print(S.shape)\n",
    "\n",
    "    # Calcul des valeurs de S pour les différentes parties de la courbe\n",
    "    S[ind1] = S00 - C * p[ind1]  # partie linéaire avant enroulement\n",
    "    S[ind2] = A * (p[ind2] - PprimeM - Pb) ** 2 + SL  # coude -> équation du second degré\n",
    "    S[ind3] = SL  # fuite\n",
    "    # print('S = ', S)\n",
    "    return S\n"
   ]
  },
  {
   "cell_type": "code",
   "execution_count": 7,
   "metadata": {},
   "outputs": [],
   "source": [
    "# force : pression généralisée (= force de la lèvre )\n",
    "# S : section d'ouverture\n",
    "\n",
    "# S00 : section d'ouverture à force nulle (ordonnée à l'origine)\n",
    "# PM: pression de plaquage\n",
    "# Coude : Pb dans le modèle\n",
    "# Sfuites : section de fuites\n",
    "# Paramopt : parametres optimaux [S00, PM, Coude, Sfuites]\n",
    "# Smodelepg: section théorique correspondant aux parametres optimaux\n",
    "\n",
    "def identification_modele(force, S):\n",
    "    # Identification grossière des paramètres pour l'initialisation de l'optimisation\n",
    "    Smax = max(S)\n",
    "    indmax = np.where(S > 0.5 * Smax)\n",
    "    \n",
    "    # partie linéaire au début de la caractéristique\n",
    "    P = np.polyfit(force[indmax], S[indmax], 1)\n",
    "    Cest = -P[0]  # pente\n",
    "    S0est = P[1]  # ordonnée à l'origine\n",
    "    Stheo = np.polyval(P, force[indmax])\n",
    "\n",
    "    #####################################################################\n",
    "    # Paramètres initiaux de l'optimisation\n",
    "    PM0 = S0est / Cest # solution de l'équation de la droite de la partie linéraire (abscisse de Surface = 0)\n",
    "    Sfuites0 = 0 \n",
    "    \n",
    "    # Valeur initiale de Coude0 variable pour trouver l'erreur min du modèle\n",
    "    # Attention ne pas utiliser Coude0 trop grand sans quoi il y a convergence vers Coude = PM !\n",
    "    Coude0 = PM0 / 4\n",
    "    \n",
    "    \n",
    "    p0 = [S0est, PM0, Coude0, Sfuites0]\n",
    "    Paramopt = curve_fit(caracNL_BG, xdata=force, ydata=S, p0=p0 ,method='lm') # Use non-linear least squares to fit a function, f, to data\n",
    "    # Smodelepg = caracNL_BG(force, *Paramopt)\n",
    "    # erreuropt = np.sqrt(np.sum((Smodelepg - S) ** 2) / np.sum(S ** 2)) * 100\n",
    "    \n",
    "    Paramopt = Paramopt[0]\n",
    "    print(Paramopt)\n",
    "    print(type(Paramopt))\n",
    "    surface = Paramopt[0]\n",
    "    pression = Paramopt[1]\n",
    "    coude = Paramopt[2]\n",
    "    fuite = Paramopt[3]\n",
    "    # Tracé des résultats\n",
    "    pgt = np.linspace(0, 13, 300)\n",
    "    ST = caracNL_BG(pgt, surface,pression, coude, fuite)\n",
    "    \n",
    "    plt.plot(force, S, '-+', lw=2, label='Données expérimentales')\n",
    "    plt.plot(pgt, ST, 'k', lw=2, label='Modèle ajusté')\n",
    "    \n",
    "    # Affichage des traits de coustruction du modèle \n",
    "    # plt.plot(0, Paramopt[0], '+r', lw=6)\n",
    "    # plt.plot(Paramopt[1], 0, '+r', lw=6)\n",
    "    # plt.plot([Paramopt[1], 0], [0, Paramopt[0]], '-.r', lw=1)\n",
    "    # plt.plot(Paramopt[1] + Paramopt[2], 0, '+g', lw=6)\n",
    "    # plt.plot(Paramopt[1] - Paramopt[2], 0, '+g', lw=6)\n",
    "    # plt.plot(0, Paramopt[3], '+b', lw=6)\n",
    "    # plt.plot([0, 6], [Paramopt[3], Paramopt[3]], ':b', lw=1)\n",
    "    # limit = np.linspace(0, 14, 100)\n",
    "    # plt.plot((Paramopt[1] + Paramopt[2]) * np.ones_like(limit), limit, '--g', lw =1)\n",
    "    # plt.plot((Paramopt[1] - Paramopt[2]) * np.ones_like(limit), limit, '--g', lw =1)\n",
    "    \n",
    "    plt.grid()\n",
    "    plt.xlabel('Pression généralisée (force)')\n",
    "    plt.ylabel('Section d\\'ouverture (S)')\n",
    "    plt.legend()\n",
    "    plt.show()\n",
    "\n",
    "    return Paramopt"
   ]
  },
  {
   "cell_type": "markdown",
   "metadata": {},
   "source": [
    "# Applications"
   ]
  },
  {
   "cell_type": "code",
   "execution_count": 8,
   "metadata": {},
   "outputs": [
    {
     "name": "stdout",
     "output_type": "stream",
     "text": [
      "[12.80833902  3.53455068  1.99390893  0.04739498]\n",
      "<class 'numpy.ndarray'>\n"
     ]
    }
   ],
   "source": [
    "plt.close('all')\n",
    "force = np.loadtxt(dossier + '/force_A2.txt')\n",
    "offset = min(force)\n",
    "force = (force - offset)/S_force\n",
    "surf_canal = np.loadtxt(dossier + '/air_canal_A2.txt')\n",
    "\n",
    "\n",
    "Paramopt = identification_modele(force, surf_canal)\n",
    "\n",
    "raideur = Paramopt[1]/Paramopt[0]\n",
    "# print(raideur)\n"
   ]
  },
  {
   "cell_type": "code",
   "execution_count": 11,
   "metadata": {},
   "outputs": [],
   "source": [
    "# Modélisation par simple polyfit\n",
    "polyfit_model = False\n",
    "\n",
    "if polyfit_model : \n",
    "    plt.close('all')\n",
    "\n",
    "    coeffs = np.polyfit(force, surf_canal, 3)\n",
    "    poly_fit = np.poly1d(coeffs)\n",
    "    print(coeffs)\n",
    "\n",
    "    # Affichage des résultats\n",
    "    plt.scatter(force, surf_canal, label='Data')\n",
    "    plt.plot(force, poly_fit(force), label='Polynomial fit', color='red')\n",
    "    plt.xlabel('Force')\n",
    "    plt.ylabel('Surface')\n",
    "    plt.legend(loc='best')\n",
    "    plt.show()"
   ]
  }
 ],
 "metadata": {
  "kernelspec": {
   "display_name": "Python 3",
   "language": "python",
   "name": "python3"
  },
  "language_info": {
   "codemirror_mode": {
    "name": "ipython",
    "version": 3
   },
   "file_extension": ".py",
   "mimetype": "text/x-python",
   "name": "python",
   "nbconvert_exporter": "python",
   "pygments_lexer": "ipython3",
   "version": "3.10.8"
  }
 },
 "nbformat": 4,
 "nbformat_minor": 2
}
