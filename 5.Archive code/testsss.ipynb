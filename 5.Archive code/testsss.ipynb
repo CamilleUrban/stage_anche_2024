{
 "cells": [
  {
   "cell_type": "code",
   "execution_count": 7,
   "metadata": {},
   "outputs": [],
   "source": [
    "\n",
    "import numpy as np\n",
    "import matplotlib.pyplot as plt\n",
    "import pandas as pd\n",
    "import cv2\n",
    "from skimage.io import imread\n",
    "from skimage.transform import rotate\n",
    "from im_rotate import im_rotate\n",
    "from scipy import ndimage, datasets\n",
    "import scipy.optimize as optimize\n",
    "from caracNL_BG import caracNL_BG\n",
    "from identification_modele import identification_modele"
   ]
  },
  {
   "cell_type": "code",
   "execution_count": 2,
   "metadata": {},
   "outputs": [
    {
     "name": "stdout",
     "output_type": "stream",
     "text": [
      "Conversion terminée. Le fichier MATLAB a été converti en fichier texte.\n"
     ]
    }
   ],
   "source": [
    "# Metre le fichier . mat en .txt \n",
    "\n",
    "dossier = 'MAD Statique/mes_2024.03.22'\n",
    "\n",
    "# surf_c = np.loadtxt(dossier + '/A1.txt')\n",
    "               \n",
    "# Lecture du fichier MATLAB (.m) et écriture dans un fichier texte (.txt)\n",
    "with open(dossier + '/A1.mat', 'r') as file:\n",
    "    matlab_code = file.read()\n",
    "    \n",
    "# Écriture du contenu dans un fichier texte\n",
    "with open(dossier + '/A1.txt', 'w') as file:\n",
    "    file.write(matlab_code)\n",
    "    \n",
    "print(\"Conversion terminée. Le fichier MATLAB a été converti en fichier texte.\")"
   ]
  },
  {
   "cell_type": "code",
   "execution_count": 3,
   "metadata": {},
   "outputs": [],
   "source": [
    "# CA FONCTIONNE\n",
    "# Ouvrir le fichier d'entrée en mode lecture\n",
    "with open(dossier + '/A1.txt', 'r') as f:\n",
    "    lines = f.readlines()\n",
    "\n",
    "# Initialiser une variable pour suivre le numéro de fichier en cours\n",
    "current_file_index = 1\n",
    "\n",
    "# Parcourir les lignes du fichier\n",
    "for line in lines:\n",
    "    if line.startswith('#'):\n",
    "        # Si une ligne commence par '#', cela indique un nouveau fichier\n",
    "        current_file_index += 1\n",
    "    else:\n",
    "        # Écrire le contenu de la ligne dans le fichier correspondant\n",
    "        with open(dossier + f'/matrix{current_file_index}.txt', 'a') as current_file:\n",
    "            current_file.write(line)\n"
   ]
  },
  {
   "cell_type": "code",
   "execution_count": 4,
   "metadata": {},
   "outputs": [],
   "source": [
    "# def_r \n",
    "with open(dossier + '/matrix6.txt', 'r') as f:\n",
    "    lines = f.readlines()\n",
    "\n",
    "# Initialiser une variable pour suivre le numéro de fichier en cours\n",
    "current_file_index = 1\n",
    "# Parcourir les lignes du fichier\n",
    "for line in lines:\n",
    "    # Diviser la ligne en valeurs individuelles en utilisant l'espace comme délimiteur\n",
    "    values = line.split()\n",
    "    values = np.array(values)\n",
    "    # Écrire les valeurs dans le fichier correspondant\n",
    "    with open(dossier + '/def_r.txt', 'a') as current_file:\n",
    "        for value in values:\n",
    "            current_file.write(value + ' ')\n",
    "        current_file.write('\\n')\n",
    "\n",
    "# der_m\n",
    "with open(dossier + '/matrix10.txt', 'r') as f:\n",
    "    lines = f.readlines()\n",
    "current_file_index = 1\n",
    "for line in lines:\n",
    "    values = line.split()\n",
    "    values = np.array(values)\n",
    "    with open(dossier + '/def_m.txt', 'a') as current_file:\n",
    "        for value in values:\n",
    "            current_file.write(value + ' ')\n",
    "        current_file.write('\\n')\n",
    "        \n",
    "# surf_c\n",
    "with open(dossier + '/matrix14.txt', 'r') as f:\n",
    "    lines = f.readlines()\n",
    "current_file_index = 1\n",
    "for line in lines:\n",
    "    values = line.split()\n",
    "    values = np.array(values)\n",
    "    with open(dossier + '/surf_c.txt', 'a') as current_file:\n",
    "        for value in values:\n",
    "            current_file.write(value + ' ')\n",
    "        current_file.write('\\n')"
   ]
  },
  {
   "cell_type": "code",
   "execution_count": 9,
   "metadata": {},
   "outputs": [],
   "source": [
    "def_r = np.loadtxt(dossier + '/def_r.txt')\n",
    "def_m = np.loadtxt(dossier + '/def_m.txt')\n",
    "surf_c = np.loadtxt(dossier + '/surf_c.txt')\n",
    "F = np.loadtxt(dossier + '/force_A1.txt')"
   ]
  },
  {
   "cell_type": "code",
   "execution_count": 17,
   "metadata": {},
   "outputs": [
    {
     "data": {
      "image/png": "[encoded data removed]",
      "text/plain": [
       "<Figure size 800x600 with 1 Axes>"
      ]
     },
     "metadata": {},
     "output_type": "display_data"
    }
   ],
   "source": [
    "plt.figure(figsize=(8, 6))\n",
    "plt.plot(F, surf_c, '*-', linewidth=1.8, label='Force 1')\n",
    "A = identification_modele(F, surf_c)\n",
    "plt.plot(identification_modele(F, surf_c)[0])\n",
    "plt.show()"
   ]
  },
  {
   "cell_type": "code",
   "execution_count": 6,
   "metadata": {},
   "outputs": [],
   "source": [
    "# # tracer la surface du cannal d'anche\n",
    "\n",
    "# # plt.close('all')\n",
    "\n",
    "# # plt.figure(figsize=(8, 6))\n",
    "# # dossier = 'MAD Statique/mes_2024.03.22'\n",
    "# # pentes = []\n",
    "# # # surf_c = []\n",
    "# # # F =[]\n",
    "\n",
    "# # surf_c = np.loadtxt(dossier + '/A1.txt')\n",
    "# # F = np.loadtxt(dossier + '/force_A1.txt')\n",
    "    \n",
    " \n",
    "# # # PlotF\n",
    "# # plt.plot(F, surf_c, '*-', linewidth=1.8, label='Force 1')\n",
    "# # plt.xlabel('Force')\n",
    "# # plt.ylabel('Surface (mm²)')\n",
    "# # plt.title('Surface du canal d\\'anche en fonction de la force \\n d\\'appui de la lèvre articielle')\n",
    "# # plt.legend()\n",
    "# # plt.grid(True)\n",
    "# # plt.axis([-30, 350, -2, 13])\n",
    "# # plt.xticks(fontsize=12)\n",
    "# # plt.yticks(fontsize=12)\n",
    "# # plt.show()\n",
    "    \n",
    "    \n",
    "# pg = F\n",
    "# S = surf_c\n",
    "# print(S)\n",
    "\n",
    "# # Identification grossière des paramètres pour l'initialisation de l'optimisation\n",
    "# Smax = np.max(S)\n",
    "# indmax = np.where(S > 0.5 * Smax)[0]\n",
    "# P = np.polyfit(pg[indmax], S[indmax], 1)\n",
    "# Cest = -P[0]  # pente\n",
    "# S0est = P[1]  # ordonnée à l'origine\n",
    "# Stheo = np.polyval(P, pg[indmax])\n",
    "\n",
    "\n",
    "# # Paramètres initiaux de l'optimisation\n",
    "# PM0 = S0est / Cest\n",
    "# Sfuites0 = 0\n",
    "# Coude0 = PM0 / 4\n",
    "# p0 = [S0est, PM0, Coude0, Sfuites0]\n",
    "\n",
    "# # Minimisation au sens des moindres carrés\n",
    "# Paramopt, _ = optimize.leastsq(lambda p: caracNL_BG(p, [pg, S]), p0)\n",
    "# print(Paramopt)\n",
    "\n",
    "# pgt = np.linspace(-20, 1000, 100)\n",
    "# ST = caracNL_BG(pgt, *Paramopt)\n",
    "\n",
    "# # plt.close('all')\n",
    "# # Tracé des résultats\n",
    "# plt.plot(pgt, ST, 'k', linewidth=3)\n",
    "# plt.plot(0, Paramopt[0], '+r', linewidth=6)\n",
    "# plt.plot(Paramopt[1], 0, '+r', linewidth=6)\n",
    "# plt.plot([Paramopt[1], 0], [0, Paramopt[0]], '-.r', linewidth=1)\n",
    "# plt.plot(Paramopt[1] + Paramopt[2], 0, '+g', linewidth=6)\n",
    "# plt.plot(Paramopt[1] - Paramopt[2], 0, '+g', linewidth=6)\n",
    "# plt.plot(0, Paramopt[3], '+b', linewidth=6)\n",
    "# plt.plot([0, 6], [Paramopt[3], Paramopt[3]], ':b', linewidth=1)\n",
    "# limit = np.linspace(0, 14, 100)\n",
    "# plt.plot(np.ones_like(limit) * (Paramopt[1] + Paramopt[2]), limit, '--g', linewidth=1)\n",
    "# plt.plot(np.ones_like(limit) * (Paramopt[1] - Paramopt[2]), limit, '--g', linewidth=1)\n",
    "\n",
    "# plt.show()\n",
    "\n"
   ]
  }
 ],
 "metadata": {
  "kernelspec": {
   "display_name": "Python 3",
   "language": "python",
   "name": "python3"
  },
  "language_info": {
   "codemirror_mode": {
    "name": "ipython",
    "version": 3
   },
   "file_extension": ".py",
   "mimetype": "text/x-python",
   "name": "python",
   "nbconvert_exporter": "python",
   "pygments_lexer": "ipython3",
   "version": "3.10.8"
  }
 },
 "nbformat": 4,
 "nbformat_minor": 2
}
