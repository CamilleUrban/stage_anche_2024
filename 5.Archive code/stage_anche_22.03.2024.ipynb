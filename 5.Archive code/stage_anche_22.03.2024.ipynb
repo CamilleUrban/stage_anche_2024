{
 "cells": [
  {
   "cell_type": "markdown",
   "metadata": {},
   "source": [
    "# STAGE ANCHES <br>\n",
    "Camille Urban <br>\n",
    "22/03/2024"
   ]
  },
  {
   "cell_type": "code",
   "execution_count": 1,
   "metadata": {},
   "outputs": [],
   "source": [
    "import numpy as np\n",
    "import matplotlib.pyplot as plt\n",
    "import pandas as pd\n",
    "\n",
    "from skimage.io import imread\n",
    "from skimage.transform import rotate\n",
    "import os\n",
    "\n",
    "from mpl_toolkits.mplot3d import Axes3D"
   ]
  },
  {
   "cell_type": "code",
   "execution_count": 2,
   "metadata": {},
   "outputs": [
    {
     "name": "stdout",
     "output_type": "stream",
     "text": [
      "Using matplotlib backend: <object object at 0x000001E80A267510>\n",
      "Using matplotlib backend: TkAgg\n"
     ]
    }
   ],
   "source": [
    "%matplotlib\n",
    "%matplotlib"
   ]
  },
  {
   "cell_type": "markdown",
   "metadata": {},
   "source": [
    "### Fonction im_rotate "
   ]
  },
  {
   "cell_type": "code",
   "execution_count": 4,
   "metadata": {},
   "outputs": [],
   "source": [
    "def im_rotate(J):\n",
    "    cibles = ['Bec Gauche', 'Bec Droit']\n",
    "\n",
    "    J = np.flipud(J)\n",
    "    W = J.shape[1]  # Width\n",
    "    H = J.shape[0]  # Height\n",
    "\n",
    "    X = np.arange(W)  # coord. non calibrées\n",
    "    Y = np.arange(H)\n",
    "    a = 30\n",
    "    N = 20  # taille fenêtre glissante (en px)\n",
    "    dist_px = 5\n",
    "\n",
    "    Xcibles = np.full(len(cibles), np.nan)\n",
    "    Ycibles = np.full(len(cibles), np.nan)\n",
    "\n",
    "    for i in range(len(cibles) + 1):\n",
    "        plt.figure()\n",
    "        plt.clf()\n",
    "        plt.imshow(J, cmap='gray', extent=[0, W, H, 0])\n",
    "        plt.axis('equal')\n",
    "        plt.xlim(0, W)\n",
    "        plt.ylim(0, H)\n",
    "\n",
    "        for j in range(i):\n",
    "            plt.plot(Xcibles[j] + np.array([-1, 1, 1, -1, -1]) * a, \n",
    "                     Ycibles[j] + np.array([-1, -1, 1, 1, -1]) * a,\n",
    "                     color='b')  # Utilisation de bleu pour représenter les cibles\n",
    "            plt.plot(Xcibles[j], Ycibles[j], '+', color='b')\n",
    "\n",
    "        if i == len(cibles):\n",
    "            break\n",
    "\n",
    "        plt.title('Cliquer sur 1 = Bec G, 2 = Bec D  -> {} ({})'.format(i + 1, cibles[i]))\n",
    "        xclic, yclic = plt.ginput(1)[0]\n",
    "        c1 = np.array([round(xclic), round(yclic)])  # prendre des entiers\n",
    "        plt.title('')\n",
    "\n",
    "        Xcibles[i] = c1[0]  # pixel x des cibles\n",
    "        Ycibles[i] = c1[1]  # pixel y des cibles\n",
    "\n",
    "    # rotation de l'image\n",
    "    XL_mp = Xcibles[0]\n",
    "    XR_mp = Xcibles[1]\n",
    "    YL_mp = Ycibles[0]\n",
    "    YR_mp = Ycibles[1]\n",
    "\n",
    "    angle_rot = np.arctan2(YR_mp - YL_mp, XR_mp - XL_mp)\n",
    "    J_rot = rotate(J, np.degrees(angle_rot), mode='constant', cval=np.mean(J))\n",
    "    return angle_rot, J_rot\n",
    "\n",
    "# # Chargement de l'image\n",
    "# image_path = 'Banc statique\\\\2024.03.21\\position1\\\\anche1\\image_0_0.jpg'\n",
    "# I = imread(image_path)\n",
    "\n",
    "# # Appel de la fonction\n",
    "# angle_rot, J_rot = im_rotate(I)\n",
    "\n",
    "# # Affichage de l'image après rotation\n",
    "# plt.figure()\n",
    "# plt.imshow(J_rot, cmap='gray')\n",
    "# plt.axis('off')\n",
    "# plt.title('Image après rotation')\n",
    "# plt.show()\n"
   ]
  },
  {
   "cell_type": "markdown",
   "metadata": {},
   "source": [
    "# Banc Statique"
   ]
  },
  {
   "cell_type": "markdown",
   "metadata": {},
   "source": [
    "##### Fonctions arrondi et mise en Newton N"
   ]
  },
  {
   "cell_type": "code",
   "execution_count": 5,
   "metadata": {},
   "outputs": [],
   "source": [
    "# SENSIBILITE des CAPTEURS\n",
    "\n",
    "S_force_bs = 29.67   # bs pour banc statique\n",
    "G_force_bs = 100\n",
    "\n",
    "S_p_bec = 8.47e-2"
   ]
  },
  {
   "cell_type": "code",
   "execution_count": 6,
   "metadata": {},
   "outputs": [
    {
     "name": "stderr",
     "output_type": "stream",
     "text": [
      "<>:19: SyntaxWarning: invalid escape sequence '\\p'\n",
      "<>:19: SyntaxWarning: invalid escape sequence '\\p'\n",
      "C:\\Users\\Admin\\AppData\\Local\\Temp\\ipykernel_13156\\877371663.py:19: SyntaxWarning: invalid escape sequence '\\p'\n",
      "  A1 = pd.read_table(f'Banc statique\\\\2024.03.21\\position1\\\\anche1\\data_anche1.txt', sep=' ', header=0).values\n"
     ]
    }
   ],
   "source": [
    "# Arrondi la matrice entière \n",
    "def round_data (A, n): # renseigner la matrice à traiter et le nombre de chiffres significatif de l'arrondi\n",
    "    A_round = np.empty(A.shape)     # matrice vide de même taille que la matrice d'entrée\n",
    "    for i in range (A.shape[0]):\n",
    "        for j in range (A.shape[1]):\n",
    "            A_r = round(A[i,j],n)   # arrondi toute la matrice\n",
    "            A_round[i,j] = A_r\n",
    "    return A_round\n",
    "\n",
    "# Mise en grandeur physique\n",
    "def grandeur_physique(A, Sensibilite, n):\n",
    "    A_physique = np.empty(A.shape) \n",
    "    for i in range (A.shape[0]):\n",
    "        A_p = round(A[i,2]*Sensibilite)   # arrondi toute la matrice\n",
    "        A_physique[i,] = (A[i,0], A[i,1], A_p)\n",
    "    return A_physique\n",
    "\n",
    "# EXEMPLE : \n",
    "A1 = pd.read_table(f'Banc statique\\\\2024.03.21\\position1\\\\anche1\\data_anche1.txt', sep=' ', header=0).values\n",
    "A=A1 \n",
    "n1=2 # ordre de l'arrondi\n",
    "S1=29.67 # N/mV\n",
    "# print(round_data(A1,n1))\n",
    "# print(grandeur_physique(A1, S1, n1))"
   ]
  },
  {
   "cell_type": "markdown",
   "metadata": {},
   "source": [
    "# Mesures statiques"
   ]
  },
  {
   "cell_type": "markdown",
   "metadata": {},
   "source": [
    "##### transo données"
   ]
  },
  {
   "cell_type": "code",
   "execution_count": 7,
   "metadata": {},
   "outputs": [],
   "source": [
    "\n",
    "# data = []\n",
    "# data1 = []\n",
    "\n",
    "# S = S_force_bs  #sensibilité du capteur\n",
    "# arrondi = 2\n",
    "\n",
    "# for i in range (3):\n",
    "#     for j in range (3):\n",
    "#         data1 = pd.read_table(f'Banc statique\\\\2024.03.21\\position{i+1}\\\\anche{j+1}\\data_anche{j+1}.txt', sep=' ', header=0).values\n",
    "#         data1 = round_data(data1, arrondi)\n",
    "#         data1 = grandeur_physique(data1, S, arrondi)\n",
    "#         data.append(data1)\n",
    "\n",
    "# # A = pd.read_table('Banc statique\\\\2024.03.21\\position1\\\\anche1\\data_anche1.txt', sep=' ').values\n",
    "# # data.append(A)\n",
    "        \n",
    "# # print(np.shape(data))\n",
    "# # print(type(data[0]))\n",
    "# # print(data),\n",
    "\n",
    "\n"
   ]
  },
  {
   "cell_type": "code",
   "execution_count": 7,
   "metadata": {},
   "outputs": [
    {
     "name": "stderr",
     "output_type": "stream",
     "text": [
      "<>:6: SyntaxWarning: invalid escape sequence '\\d'\n",
      "<>:6: SyntaxWarning: invalid escape sequence '\\d'\n",
      "C:\\Users\\Admin\\AppData\\Local\\Temp\\ipykernel_11580\\2312962877.py:6: SyntaxWarning: invalid escape sequence '\\d'\n",
      "  data1 = pd.read_table(f'Banc statique\\\\2024.04.05\\\\anche1\\data_anche1.txt', sep=' ', header=0).values\n"
     ]
    }
   ],
   "source": [
    "data = []\n",
    "data1 = []\n",
    "S = S_force_bs  #sensibilité du capteur\n",
    "arrondi = 2\n",
    "\n",
    "data1 = pd.read_table(f'Banc statique\\\\2024.04.05\\\\anche1\\data_anche1.txt', sep=' ', header=0).values\n",
    "data1 = round_data(data1, arrondi)\n",
    "data1 = grandeur_physique(data1, S, arrondi)\n",
    "# data.append(data1)\n",
    "# print(data1)"
   ]
  },
  {
   "cell_type": "code",
   "execution_count": 30,
   "metadata": {},
   "outputs": [
    {
     "ename": "TypeError",
     "evalue": "list indices must be integers or slices, not tuple",
     "output_type": "error",
     "traceback": [
      "\u001b[1;31m---------------------------------------------------------------------------\u001b[0m",
      "\u001b[1;31mTypeError\u001b[0m                                 Traceback (most recent call last)",
      "Cell \u001b[1;32mIn[30], line 10\u001b[0m\n\u001b[0;32m      8\u001b[0m \u001b[38;5;66;03m# print(data_a)\u001b[39;00m\n\u001b[0;32m      9\u001b[0m \u001b[38;5;28;01mfor\u001b[39;00m i \u001b[38;5;129;01min\u001b[39;00m \u001b[38;5;28mrange\u001b[39m (\u001b[38;5;241m0\u001b[39m, \u001b[38;5;28mlen\u001b[39m(data_a), \u001b[38;5;241m4\u001b[39m):\n\u001b[1;32m---> 10\u001b[0m         data_to_plot \u001b[38;5;241m=\u001b[39m \u001b[43mdata\u001b[49m\u001b[43m[\u001b[49m\u001b[43mi\u001b[49m\u001b[43m:\u001b[49m\u001b[43mi\u001b[49m\u001b[38;5;241;43m+\u001b[39;49m\u001b[38;5;241;43m4\u001b[39;49m\u001b[43m,\u001b[49m\u001b[38;5;241;43m0\u001b[39;49m\u001b[43m]\u001b[49m\n\u001b[0;32m     11\u001b[0m         \u001b[38;5;28;01mfor\u001b[39;00m j \u001b[38;5;129;01min\u001b[39;00m \u001b[38;5;28mrange\u001b[39m (\u001b[38;5;241m0\u001b[39m, \u001b[38;5;28mlen\u001b[39m(data_a), \u001b[38;5;241m4\u001b[39m):\n\u001b[0;32m     12\u001b[0m                 \u001b[38;5;66;03m# print(len(data_a))\u001b[39;00m\n\u001b[0;32m     13\u001b[0m                 plt\u001b[38;5;241m.\u001b[39mplot(data_a[i:i\u001b[38;5;241m+\u001b[39m\u001b[38;5;241m4\u001b[39m,\u001b[38;5;241m0\u001b[39m], data_a[i:i\u001b[38;5;241m+\u001b[39m\u001b[38;5;241m4\u001b[39m,\u001b[38;5;241m2\u001b[39m], marker\u001b[38;5;241m=\u001b[39m\u001b[38;5;124m'\u001b[39m\u001b[38;5;124m.\u001b[39m\u001b[38;5;124m'\u001b[39m)\n",
      "\u001b[1;31mTypeError\u001b[0m: list indices must be integers or slices, not tuple"
     ]
    }
   ],
   "source": [
    "# graphique 3D de la force appliquée en chaque point de mesure\n",
    "plt.close('all')\n",
    "fig = plt.figure()\n",
    "# ax = fig.add_subplot(111, projection='3d')\n",
    "# data_to_plot = np.empty((4,3))\n",
    "\n",
    "data_a = data1\n",
    "# print(data_a)\n",
    "for i in range (0, len(data_a), 4):\n",
    "        data_to_plot = data[i:i+4,0]\n",
    "        for j in range (0, len(data_a), 4):\n",
    "                # print(len(data_a))\n",
    "                plt.plot(data_a[i:i+4,0], data_a[i:i+4,2], marker='.')\n",
    "                # ax.scatter(data_a[i:i+4,0], data_a[i:i+4,1], data_a[i:i+4,2], c='r', marker='o')\n",
    "\n",
    "# Étiquetage des axes 2D\n",
    "# plt.xlabel('Coordonnée ... (mm)')\n",
    "# plt.ylabel('Force F (N)')"
   ]
  },
  {
   "cell_type": "code",
   "execution_count": 26,
   "metadata": {},
   "outputs": [
    {
     "data": {
      "text/plain": [
       "Text(0.5, 0, 'Force F (N)')"
      ]
     },
     "execution_count": 26,
     "metadata": {},
     "output_type": "execute_result"
    }
   ],
   "source": [
    "# graphique 3D de la force appliquée en chaque point de mesure\n",
    "plt.close('all')\n",
    "fig = plt.figure()\n",
    "ax = fig.add_subplot(111, projection='3d')\n",
    "\n",
    "data_a = data1\n",
    "# print(data_a)\n",
    "for i in range (0, len(data_a), 4):\n",
    "    # print(len(data_a))\n",
    "    ax.scatter(data_a[i:i+4,0], data_a[i:i+4,1], data_a[i:i+4,2], c='r', marker='o')\n",
    "\n",
    "\n",
    "# Étiquetage des axes 3D\n",
    "ax.set_xlabel('Coordonnée y (mm)')\n",
    "ax.set_ylabel('Coordonnée z (mm)')\n",
    "ax.set_zlabel('Force F (N)')\n",
    "\n"
   ]
  },
  {
   "cell_type": "code",
   "execution_count": 8,
   "metadata": {},
   "outputs": [
    {
     "ename": "NameError",
     "evalue": "name 'data' is not defined",
     "output_type": "error",
     "traceback": [
      "\u001b[1;31m---------------------------------------------------------------------------\u001b[0m",
      "\u001b[1;31mNameError\u001b[0m                                 Traceback (most recent call last)",
      "Cell \u001b[1;32mIn[8], line 4\u001b[0m\n\u001b[0;32m      2\u001b[0m plt\u001b[38;5;241m.\u001b[39mclose(\u001b[38;5;124m'\u001b[39m\u001b[38;5;124mall\u001b[39m\u001b[38;5;124m'\u001b[39m)\n\u001b[0;32m      3\u001b[0m fig \u001b[38;5;241m=\u001b[39m plt\u001b[38;5;241m.\u001b[39mfigure()\n\u001b[1;32m----> 4\u001b[0m data_a \u001b[38;5;241m=\u001b[39m \u001b[43mdata\u001b[49m[\u001b[38;5;241m2\u001b[39m]\n\u001b[0;32m      5\u001b[0m data_a_tr \u001b[38;5;241m=\u001b[39m np\u001b[38;5;241m.\u001b[39mtranspose(data_a)\n\u001b[0;32m      8\u001b[0m \u001b[38;5;66;03m# print(data_a)\u001b[39;00m\n\u001b[0;32m      9\u001b[0m \u001b[38;5;66;03m# data_b = data_a[0]\u001b[39;00m\n",
      "\u001b[1;31mNameError\u001b[0m: name 'data' is not defined"
     ]
    }
   ],
   "source": [
    "# \n",
    "plt.close('all')\n",
    "fig = plt.figure()\n",
    "data_a = data[2]\n",
    "data_a_tr = np.transpose(data_a)\n",
    "\n",
    "\n",
    "# print(data_a)\n",
    "# data_b = data_a[0]\n",
    "for i in range (0, len(data_b), 4):\n",
    "        fig = plt.figure()\n",
    "        # len(data_a)\n",
    "        plt.plot(data_b[i:i+4,0], data_b[i:i+4,1], marker='.')\n",
    "\n"
   ]
  },
  {
   "cell_type": "code",
   "execution_count": null,
   "metadata": {},
   "outputs": [
    {
     "ename": "IndexError",
     "evalue": "list index out of range",
     "output_type": "error",
     "traceback": [
      "\u001b[1;31m---------------------------------------------------------------------------\u001b[0m",
      "\u001b[1;31mIndexError\u001b[0m                                Traceback (most recent call last)",
      "Cell \u001b[1;32mIn[7], line 5\u001b[0m\n\u001b[0;32m      2\u001b[0m plt\u001b[38;5;241m.\u001b[39mfigure()\n\u001b[0;32m      4\u001b[0m \u001b[38;5;28;01mfor\u001b[39;00m a \u001b[38;5;129;01min\u001b[39;00m \u001b[38;5;28mrange\u001b[39m (\u001b[38;5;241m0\u001b[39m, \u001b[38;5;28mlen\u001b[39m(data[\u001b[38;5;241m0\u001b[39m])): \n\u001b[1;32m----> 5\u001b[0m     data_a \u001b[38;5;241m=\u001b[39m \u001b[43mdata\u001b[49m\u001b[43m[\u001b[49m\u001b[43ma\u001b[49m\u001b[43m]\u001b[49m\n\u001b[0;32m      6\u001b[0m     \u001b[38;5;28;01mfor\u001b[39;00m i \u001b[38;5;129;01min\u001b[39;00m \u001b[38;5;28mrange\u001b[39m (\u001b[38;5;241m0\u001b[39m, \u001b[38;5;28mlen\u001b[39m(data_a), \u001b[38;5;241m4\u001b[39m):\n\u001b[0;32m      7\u001b[0m         \u001b[38;5;66;03m# len(data_a)\u001b[39;00m\n\u001b[0;32m      8\u001b[0m         plt\u001b[38;5;241m.\u001b[39mplot(data_a[i,\u001b[38;5;241m0\u001b[39m], data_a[i,\u001b[38;5;241m2\u001b[39m])\n",
      "\u001b[1;31mIndexError\u001b[0m: list index out of range"
     ]
    }
   ],
   "source": [
    "plt.close('all')\n",
    "plt.figure()\n",
    "\n",
    "for a in range (0, len(data[0])): \n",
    "    data_a = data[a]\n",
    "    for i in range (0, len(data_a), 4):\n",
    "        # len(data_a)\n",
    "        plt.plot(data_a[i,0], data_a[i,2])\n",
    "        data_tr = np.transpose(data_a)\n",
    "    # print(np.shape(data_inv))\n",
    "    # print(data_a[:,2])\n",
    "    # print(data_a[:,1])\n",
    "    # for i in range (8):\n",
    "        # for j in range (4):\n",
    "        # if data_tr[0] == i :\n",
    "        # pos_y =data_tr[0]\n",
    "        # pos_z = data_tr[1]\n",
    "        # force = data_tr[2]\n",
    "        # plt.plot(pos_z, force, '*-')\n",
    "\n",
    "\n",
    "plt.show()"
   ]
  },
  {
   "cell_type": "markdown",
   "metadata": {},
   "source": [
    "##### Traitement image"
   ]
  },
  {
   "cell_type": "code",
   "execution_count": null,
   "metadata": {},
   "outputs": [],
   "source": [
    "### Mesures MAD Statique\n",
    "def detect_contour(dossier, nom_anche):\n",
    "    # on repère les bords du bec pour une seule image (le bec ne bouge pas pour les autres ensuite alors on peut garder les mêmes cibles)\n",
    "    J = imread(dossier + nom_anche + '1_0.bmp')\n",
    "    angle_rot = im_rotate(J)\n",
    "\n",
    "    # repère des bords de l'anche\n",
    "    cibles = ['Anche Gauche', 'Anche Droite']\n",
    "    hmax = 350  # hauteur de l'image\n",
    "    for R in range(1,3):\n",
    "        I = imread(dossier + nom_anche + str(R) + '_0.bmp')\n",
    "        print(np.shape(np.mean(I)))\n",
    "        I = im_rotate(I, -np.degrees(angle_rot), mode='constant', cval=np.mean(I))\n",
    "        I = np.flipud(I)\n",
    "\n",
    "        I = I[150:hmax, :]  # couper l'image pour ne garder qu'une partie utile\n",
    "\n",
    "        W = I.shape[1]  # Width\n",
    "        H = I.shape[0]  # Height\n",
    "\n",
    "        X = np.arange(W)  # coord. non calibrées\n",
    "        Y = np.arange(H)\n",
    "        a = 30\n",
    "        N = 20  # taille fenêtre glissante (en px)\n",
    "        dist_px = 5\n",
    "\n",
    "        # Trouver les bords de l'anche, on gardera les indices pour toutes les anches mesurées de la série\n",
    "        Ncibles = len(cibles)\n",
    "        COLORS = plt.cm.cool(np.linspace(0, 1, Ncibles))\n",
    "\n",
    "        Xcibles = np.full(Ncibles, np.nan)\n",
    "        Ycibles = np.full(Ncibles, np.nan)\n",
    "\n",
    "        for i in range(Ncibles + 1):\n",
    "            plt.figure()\n",
    "            plt.clf()\n",
    "            plt.imshow(I, cmap='gray', extent=[0, W, H, 0])\n",
    "            plt.axis('equal')\n",
    "            plt.xlim(0, W)\n",
    "            plt.ylim(0, H)\n",
    "            plt.axhline(H, color='r')\n",
    "\n",
    "            for j in range(i):\n",
    "                plt.plot(Xcibles[j] + np.array([-1, 1, 1, -1, -1]) * a,\n",
    "                         Ycibles[j] + np.array([-1, -1, 1, 1, -1]) * a,\n",
    "                         color=COLORS[j])  # Utilisation de la colormap cool pour représenter les cibles\n",
    "                plt.plot(Xcibles[j], Ycibles[j], '+', color=COLORS[j])\n",
    "\n",
    "            if i == Ncibles:\n",
    "                break\n",
    "\n",
    "            plt.title('Cliquer sur 1 = Anche Gauche, 2 = Anche Droite -> {} ({})'.format(i + 1, cibles[i]))\n",
    "            xclic, yclic = plt.ginput(1)[0]\n",
    "            c1 = np.array([round(xclic), round(yclic)])  # prendre des entiers\n",
    "            plt.title('')\n",
    "\n",
    "            Xcibles[i] = c1[0]  # pixel x des cibles\n",
    "            Ycibles[i] = c1[1]  # pixel y des cibles\n",
    "\n",
    "        Xv = np.arange(Xcibles[0], Xcibles[1])\n",
    "\n",
    "        # Detection du profil pour toutes les forces d'une anche\n",
    "        for F in range(30):\n",
    "            I = imread(dossier + nom_anche + str(R) + '_' + str(F) + '.bmp')\n",
    "            I = im_rotate(I, np.degrees(angle_rot), mode='constant', cval=np.mean(I))\n",
    "            I = np.flipud(I)\n",
    "            I = I[150:hmax, :]\n",
    "\n",
    "            Yv_m = np.zeros_like(Xv)\n",
    "            Yv_r = np.zeros_like(Xv)\n",
    "\n",
    "            for i in range(len(Xv)):\n",
    "                Iv = I[:, Xv[i]]  # vecteur qui contient une tranche de l'image largeur 1 (x) et hauteur de l'image (y)\n",
    "                Iv = Iv.astype(float)\n",
    "\n",
    "                Iv_2 = np.diff(Iv)  # dérivée\n",
    "\n",
    "                smin = -13\n",
    "                smax = 10\n",
    "                pos1 = np.where(Iv_2 < smin)[0]\n",
    "                pos2 = np.where(Iv_2 > smax)[0]\n",
    "\n",
    "                if len(pos2) > 0:\n",
    "                    Yv_m[i] = Y[pos2[-1]]\n",
    "                else:\n",
    "                    Yv_m[i] = np.nan  # peu probable parce que detectera toujours la frontière lèvre/anche\n",
    "\n",
    "                if len(pos1) > 0:\n",
    "                    Yv_r[i] = Y[pos1[-1]]\n",
    "                else:\n",
    "                    Yv_r[i] = Yv_m[i]  # lorsque le canal d'anche est fermé, il n'y aura pas de Yv_r.\n",
    "\n",
    "            plt.plot(Xv, Yv_r, '.-', linewidth=0.1)\n",
    "            plt.plot(Xv, Yv_m, 'm.-', linewidth=0.1)\n",
    "            plt.pause(0.2)\n",
    "\n",
    "            # Calcule de la surface du canal d'anche\n",
    "            pix_canal = Yv_m - Yv_r\n",
    "\n",
    "            dist_px = 1064  # mesuré sur l'image MIRE 05-03-42 (8 carreaux)\n",
    "            dist_mm = 12  # mesuré à la règle sur la mire (cf mon cahier de labo, 2 carreaux = 3mm)\n",
    "            S = dist_mm / dist_px  # \"sensibilité\" (en mm/px)\n",
    "\n",
    "            nb_pix_canal = np.sum(pix_canal)  # je compte tous les pixels qu'il y a dans le canal\n",
    "            surf_pix = S ** 2  # surface d'un pixel\n",
    "            dim_canal = nb_pix_canal * surf_pix  # surface en mm² du canal\n",
    "\n",
    "            print('Surface canal estime =', dim_canal, 'mm²')\n",
    "\n",
    "        savename = nom_anche + str(R) + '.mat'\n",
    "        np.savetxt(dossier + savename, np.array([Yv_r, Yv_m, dim_canal]).T)\n",
    "        plt.close('all')\n",
    "\n",
    "\n",
    "# Appel de la fonction\n",
    "dossier = \"MAD Statique/mes_2024.03.22/\"\n",
    "nom_anche = 'A'\n",
    "detect_contour(dossier, nom_anche)\n"
   ]
  },
  {
   "cell_type": "markdown",
   "metadata": {},
   "source": [
    "# Mesures MAD Dynamique"
   ]
  },
  {
   "cell_type": "code",
   "execution_count": null,
   "metadata": {},
   "outputs": [],
   "source": [
    "# for i in range (3):\n",
    "#     A = pd.read_table(f'MAD Dynamique\\mesures 2024.03.20\\mes_2024.03.20\\Anche{i+1}', sep='\\t', header=2)\n",
    "A1=[]\n",
    "B1=[]\n",
    "\n",
    "data1 = pd.read_table('MAD Dynamique\\mesures 2024.03.20\\mes_2024.03.20\\Anche1', sep='\\t', header=2)\n",
    "data2 = pd.read_table('MAD Dynamique\\mesures 2024.03.20\\mes_2024.03.20\\Anche1', sep='\\t', header=2)\n",
    "data3 = pd.read_table('MAD Dynamique\\mesures 2024.03.20\\mes_2024.03.20\\Anche1', sep='\\t', header=2)\n",
    "\n",
    "A1.append(data1)\n",
    "A11 = np.array(A1)\n",
    "A111 = A11[0]\n",
    "\n",
    "# print(np.shape(A111[:,0]))\n",
    "plt.figure()\n",
    "plt.plot(A111[:,0], A111[:,4], label='micro ext')\n",
    "plt.plot(A111[:,0], A111[:,2], label='virbometre')\n",
    "plt.plot(A111[:,0], A111[:,1], label='force')\n",
    "plt.plot(A111[:,0], A111[:,3], label='micro bec')\n",
    "plt.xlabel('temps (s)')\n",
    "plt.legend()\n",
    "\n",
    "\n",
    "plt.show()"
   ]
  },
  {
   "cell_type": "code",
   "execution_count": null,
   "metadata": {},
   "outputs": [],
   "source": [
    "# for i in range (3):\n",
    "#     A = pd.read_table(f'MAD Dynamique\\mesures 2024.03.20\\mes_2024.03.20\\Anche{i+1}', sep='\\t', header=2)\n",
    "A1=[]\n",
    "B1=[]\n",
    "\n",
    "data1 = pd.read_table('MAD Dynamique\\mesures 2024.03.20\\mes_2024.03.20\\Anche2', sep='\\t', header=2)\n",
    "data2 = pd.read_table('MAD Dynamique\\mesures 2024.03.20\\mes_2024.03.20\\Anche2', sep='\\t', header=2)\n",
    "data3 = pd.read_table('MAD Dynamique\\mesures 2024.03.20\\mes_2024.03.20\\Anche2', sep='\\t', header=2)\n",
    "\n",
    "A1.append(data1)\n",
    "A11 = np.array(A1)\n",
    "A111 = A11[0]\n",
    "\n",
    "# print(np.shape(A111[:,0]))\n",
    "plt.figure()\n",
    "plt.plot(A111[:,0], A111[:,4], label='micro ext')\n",
    "plt.plot(A111[:,0], A111[:,2], label='virbometre')\n",
    "plt.plot(A111[:,0], A111[:,1], label='force')\n",
    "plt.plot(A111[:,0], A111[:,3], label='micro bec')\n",
    "plt.xlabel('temps (s)')\n",
    "plt.legend()\n",
    "\n",
    "\n",
    "plt.show()"
   ]
  },
  {
   "cell_type": "code",
   "execution_count": null,
   "metadata": {},
   "outputs": [],
   "source": [
    "# for i in range (3):\n",
    "#     A = pd.read_table(f'MAD Dynamique\\mesures 2024.03.20\\mes_2024.03.20\\Anche{i+1}', sep='\\t', header=2)\n",
    "A1=[]\n",
    "B1=[]\n",
    "\n",
    "data1 = pd.read_table('MAD Dynamique\\mesures 2024.03.20\\mes_2024.03.20\\Anche3', sep='\\t', header=2)\n",
    "data2 = pd.read_table('MAD Dynamique\\mesures 2024.03.20\\mes_2024.03.20\\Anche3', sep='\\t', header=2)\n",
    "data3 = pd.read_table('MAD Dynamique\\mesures 2024.03.20\\mes_2024.03.20\\Anche3', sep='\\t', header=2)\n",
    "\n",
    "A1.append(data1)\n",
    "A11 = np.array(A1)\n",
    "A111 = A11[0]\n",
    "\n",
    "# print(np.shape(A111[:,0]))\n",
    "plt.figure()\n",
    "plt.plot(A111[:,0], A111[:,4], label='micro ext')\n",
    "plt.plot(A111[:,0], A111[:,2], label='virbometre')\n",
    "plt.plot(A111[:,0], A111[:,1], label='force')\n",
    "plt.plot(A111[:,0], A111[:,3], label='micro bec')\n",
    "plt.xlabel('temps (s)')\n",
    "plt.legend()\n",
    "\n",
    "\n",
    "plt.show()"
   ]
  }
 ],
 "metadata": {
  "kernelspec": {
   "display_name": "Python 3",
   "language": "python",
   "name": "python3"
  },
  "language_info": {
   "codemirror_mode": {
    "name": "ipython",
    "version": 3
   },
   "file_extension": ".py",
   "mimetype": "text/x-python",
   "name": "python",
   "nbconvert_exporter": "python",
   "pygments_lexer": "ipython3",
   "version": "3.12.2"
  }
 },
 "nbformat": 4,
 "nbformat_minor": 2
}
