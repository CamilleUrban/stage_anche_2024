{
 "cells": [
  {
   "cell_type": "markdown",
   "metadata": {},
   "source": [
    "# MAD Dynamique <br>\n",
    "### STAGE ANCHES <br>\n",
    "Camille Urban <br>\n",
    "22/03/2024"
   ]
  },
  {
   "cell_type": "code",
   "execution_count": 1,
   "metadata": {},
   "outputs": [],
   "source": [
    "# classic shit\n",
    "import numpy as np\n",
    "import matplotlib.pyplot as plt\n",
    "import pandas as pd\n",
    "import scipy as sp\n",
    "from scipy.signal import butter, filtfilt\n",
    "\n",
    "#librosa\n",
    "import librosa\n",
    "import librosa.display\n",
    "\n",
    "# traitement image\n",
    "from skimage.io import imread\n",
    "from skimage.transform import rotate\n",
    "from im_rotate import im_rotate\n",
    "import os"
   ]
  },
  {
   "cell_type": "code",
   "execution_count": 2,
   "metadata": {},
   "outputs": [
    {
     "name": "stdout",
     "output_type": "stream",
     "text": [
      "Using matplotlib backend: <object object at 0x0000018F1264A340>\n",
      "Using matplotlib backend: TkAgg\n"
     ]
    }
   ],
   "source": [
    "%matplotlib\n",
    "%matplotlib"
   ]
  },
  {
   "cell_type": "markdown",
   "metadata": {},
   "source": [
    "## Paramètres du Banc"
   ]
  },
  {
   "cell_type": "code",
   "execution_count": 3,
   "metadata": {},
   "outputs": [],
   "source": [
    "# SENSIBILITE CAPTEURS\n",
    "S_mic_int =  0.0841  # Sensibilité du capteur de pression interne (mV/Pa)\n",
    "Offset_mic_int = 51.2   # (mV) \n",
    "# G_micro_int = 10 V\n",
    "S_force = 39.2 # mV/N\n",
    "# Offset_force = \n",
    "# G_force = 10 V\n",
    "# étalonnage de micro exterieur par source étalon 1kHz à 97dB\n",
    "\n",
    "# FRQ ECHANTILLONNAGE\n",
    "sr = 10000 \n",
    "n_fft = 512 # env. 50ms\n",
    "hop_length = n_fft / 4  # = 12.5ms (pas de décalage de la fenêtre)\n",
    "p_ref = 2e-5\n"
   ]
  },
  {
   "cell_type": "code",
   "execution_count": 4,
   "metadata": {},
   "outputs": [],
   "source": [
    "dossier = 'MAD Dynamique/mes_2024.04.19/'\n",
    "nom_fichier = 'anche'\n",
    "nombre_anches = 5"
   ]
  },
  {
   "cell_type": "markdown",
   "metadata": {},
   "source": [
    "# Traitement données"
   ]
  },
  {
   "cell_type": "markdown",
   "metadata": {},
   "source": [
    "### Extraction de données et plots temporels"
   ]
  },
  {
   "cell_type": "code",
   "execution_count": 5,
   "metadata": {},
   "outputs": [],
   "source": [
    "# normalisation \n",
    "def normalisation(signal):\n",
    "    # Normaliser le signal de pression par sa pression moyenne\n",
    "    # normalized_signal = signal / np.mean(signal)\n",
    "    \n",
    "    # Normaliser le signal de pression par sa pression maximale\n",
    "    normalized_signal = signal / np.max(signal)\n",
    "    \n",
    "    return normalized_signal"
   ]
  },
  {
   "cell_type": "code",
   "execution_count": 6,
   "metadata": {},
   "outputs": [],
   "source": [
    "# for i in range (3):\n",
    "#     A = pd.read_table(f'MAD Dynamique\\mesures 2024.03.20\\mes_2024.03.20\\Anche{i+1}', sep='\\t', header=2)\n",
    "plt.close('all')\n",
    "A = []\n",
    "temps = []\n",
    "forces = []\n",
    "p_ints = []\n",
    "p_exts = []\n",
    "\n",
    "for i in range (nombre_anches):\n",
    "    plt.figure()\n",
    "    data = pd.read_table( dossier + nom_fichier + f'{i+1}', sep='\\t', header=2)\n",
    "    # A.append(data)\n",
    "    A = np.array(data)\n",
    "    # print(A)\n",
    "    tps = A[:,0]\n",
    "    tps = normalisation(tps)\n",
    "    temps.append(tps)\n",
    "    force = A[:,1]/S_force\n",
    "    force = normalisation(force)\n",
    "    forces.append(force)\n",
    "    p_int = (A[:,2])/S_mic_int\n",
    "    p_int = normalisation(p_int)\n",
    "    p_ints.append(p_int)\n",
    "    p_ext = A[:,3]\n",
    "    p_ext = normalisation(p_ext)\n",
    "    p_exts.append(p_ext)\n",
    "\n",
    "    # plt.plot(tps, A[:,1], label='force')\n",
    "    plt.plot(temps[i], p_ints[i], label='micro bec')\n",
    "    plt.plot(temps[i], p_exts[i], label='micro ext')\n",
    "    \n",
    "plt.xlabel('temps (s)')\n",
    "plt.ylabel('Amplitude (Pa)')\n",
    "plt.legend()\n",
    "plt.show()"
   ]
  },
  {
   "cell_type": "markdown",
   "metadata": {},
   "source": [
    "### Spectrogramme des signaux en pression (microphone interne et externe)"
   ]
  },
  {
   "cell_type": "code",
   "execution_count": 7,
   "metadata": {},
   "outputs": [],
   "source": [
    "\n",
    "# Supposons que vous avez une matrice d'échantillons audio appelée 'y' et un taux d'échantillonnage appelé 'sr'\n",
    "# y est une matrice représentant les échantillons audio\n",
    "# sr est le taux d'échantillonnage (nombre d'échantillons par seconde)\n",
    "plt.close('all')\n",
    "\n",
    "p_int = p_ints[4]\n",
    "p_ext = p_exts[4]\n",
    "\n",
    "# Calculer le spectrogramme\n",
    "spectrogram_int = np.abs(librosa.stft(y=p_int, n_fft=n_fft))\n",
    "spectrogram_ext = np.abs(librosa.stft(y=p_ext, n_fft=n_fft))\n",
    "\n",
    "\n",
    "# Convertir l'échelle en décibels (dB)\n",
    "spectrogram_int_db = librosa.power_to_db(spectrogram_int**2, ref=p_ref**2)\n",
    "spectrogram_ext_db = librosa.power_to_db(spectrogram_ext**2, ref=p_ref**2)\n",
    "\n",
    "# Afficher le spectrogramme\n",
    "fig, (pres_int, pres_ext) = plt.subplots(1, 2, figsize=(10, 4))\n",
    "\n",
    "img_int = librosa.display.specshow(spectrogram_int_db, hop_length=hop_length, x_axis='time', y_axis='mel', ax=pres_int)\n",
    "# p_int.set_colorbar(format='%+2.0f dB')\n",
    "cbar = fig.colorbar(img_int, ax=pres_int, format='%+2.0f dB')\n",
    "cbar.set_label('Amplitude (dB)')\n",
    "pres_int.set_title('Pression interne au bec')\n",
    "\n",
    "img_ext = librosa.display.specshow(spectrogram_ext_db, hop_length=hop_length, x_axis='time', y_axis='mel', ax=pres_ext)\n",
    "cbar = fig.colorbar(img_ext, ax=pres_ext, format='%+2.0f dB')\n",
    "cbar.set_label('Amplitude (dB)')\n",
    "pres_ext.set_title('Pression externe au bec')\n",
    "\n",
    "fig.suptitle('Spectrogrammes', fontsize=20)\n",
    "plt.tight_layout()\n",
    "plt.show()\n"
   ]
  },
  {
   "cell_type": "markdown",
   "metadata": {},
   "source": [
    "### Enveloppe des signaux en pression et detection de seuil"
   ]
  },
  {
   "cell_type": "markdown",
   "metadata": {},
   "source": [
    "#### Fonctions : <br>\n",
    "- trouver la fréquence fondamentale \n",
    "- filtrer le signale fréquentiellement autour de la fondamentale\n",
    "- calcul de l'enveloppe spectrale"
   ]
  },
  {
   "cell_type": "code",
   "execution_count": 8,
   "metadata": {},
   "outputs": [],
   "source": [
    "# FILTRER LE SIGNAL AUTOUR DE LA FREQUENCE FONDAMENTALE\n",
    "\n",
    "# Retourne la valeur de la freq fondamentale\n",
    "def freq_fond(signal) : \n",
    "    # TF\n",
    "    TF = np.fft.fft(signal)\n",
    "\n",
    "    # Calcul des fréquences correspondantes\n",
    "    freqs = np.fft.fftfreq(len(signal), d=1/sr)\n",
    "\n",
    "    # Indice de la fréquence fondamentale (la fréquence avec l'amplitude maximale, à l'exception de la première fréquence nulle)\n",
    "    indice_fonda = np.argmax(np.abs(TF[1:])) + 1\n",
    "\n",
    "    # La fréquence fondamentale correspondante est la fréquence à cet indice\n",
    "    freq_fonda = np.abs(freqs[indice_fonda])\n",
    "    print(\"Fréquence fondamentale détectée:\", freq_fonda)\n",
    "    return freq_fonda\n",
    "\n",
    "    \n",
    "# Retourne le signal filtré autour de la fréquence fondamentale\n",
    "# Prend en entrée le signal et la largeur de la bande passante autour de la fréquence fondamentale\n",
    "def filtered_sig(signal,largeur_bande) :\n",
    "    # Appeler la fct qui cherhce la frequence fondamenetale\n",
    "    freq_fonda = freq_fond(signal)\n",
    "    # print(freq_fonda)\n",
    "    \n",
    "    # Definition de l'ordre du filtre\n",
    "    ordre_filtre = 4  \n",
    "    \n",
    "    # Calcul des fréquences de coupure\n",
    "    freq_coup_inf = freq_fonda - largeur_bande / 2\n",
    "    freq_coup_sup = freq_fonda + largeur_bande / 2\n",
    "\n",
    "    # fréquences de coupure en fréquences normalisées\n",
    "    frequence_coupure_inf_norm = freq_coup_inf / (sr / 2)\n",
    "    frequence_coupure_sup_norm = freq_coup_sup / (sr / 2)\n",
    "\n",
    "    # Création du filtre passe-bande\n",
    "    b, a = butter(ordre_filtre, [frequence_coupure_inf_norm, frequence_coupure_sup_norm], btype='band')\n",
    "\n",
    "    # Filtrage du signal\n",
    "    signal_filtre = filtfilt(b, a, signal)\n",
    "    return signal_filtre\n"
   ]
  },
  {
   "cell_type": "code",
   "execution_count": 9,
   "metadata": {},
   "outputs": [],
   "source": [
    "# CALCUL DE L'ENVELOPPE SPECTRALE\n",
    "\n",
    "# Fonction pour calculer l'enveloppe spectrale par convolution avec fenêtre de Hann\n",
    "def spectral_envelope(signal, window_size):\n",
    "    # Calculer le nombre de segments\n",
    "    num_segments = len(signal) // window_size\n",
    "    \n",
    "    # Initialiser l'enveloppe spectrale\n",
    "    spectral_env = np.zeros_like(signal)\n",
    "    \n",
    "    # fenêtrage de Hann sur chaque segment et TF\n",
    "    for i in range(num_segments):\n",
    "        start_idx = i * window_size\n",
    "        end_idx = (i + 1) * window_size\n",
    "        segment = signal[start_idx:end_idx]\n",
    "        \n",
    "        # fenêtrage\n",
    "        segment *= sp.signal.windows.hann(window_size)\n",
    "        \n",
    "        # TF et amplitude\n",
    "        spectrum = np.fft.fft(segment)\n",
    "        amplitude = np.abs(spectrum)\n",
    "        \n",
    "        spectral_env[start_idx:end_idx] = amplitude\n",
    "    \n",
    "    # Lissage par convolution\n",
    "    spectral_env = np.convolve(spectral_env, np.ones(window_size) / window_size, mode='same')\n",
    "    \n",
    "    return spectral_env"
   ]
  },
  {
   "cell_type": "code",
   "execution_count": 10,
   "metadata": {},
   "outputs": [],
   "source": [
    "# VARIABLES \n",
    "\n",
    "n=1\n",
    "signal = p_ints[n]\n",
    "tps = temps[n]\n",
    "\n",
    "# APPEL FONCTION FILTRAGE\n",
    "freq_bande = 100  \n",
    "\n",
    "# Seuil de détection absolu\n",
    "seuil = 0.01\n",
    " \n",
    "# Fréquence de coupure (Hz)\n",
    "F_c = 20\n",
    "\n",
    "# Taille de la fenêtre de Hann\n",
    "# window_size = n_fft\n",
    "window_size = int(sr / F_c)"
   ]
  },
  {
   "cell_type": "code",
   "execution_count": 11,
   "metadata": {},
   "outputs": [
    {
     "name": "stdout",
     "output_type": "stream",
     "text": [
      "Fréquence fondamentale détectée: 209.6620570753409\n",
      "[19262, 36241, 45261, 63761]\n"
     ]
    },
    {
     "data": {
      "text/plain": [
       "<matplotlib.legend.Legend at 0x18f698f8d00>"
      ]
     },
     "execution_count": 11,
     "metadata": {},
     "output_type": "execute_result"
    }
   ],
   "source": [
    "plt.close('all')\n",
    "\n",
    "# APPEL FONCTION FILTRAGE\n",
    "signal_filtre = filtered_sig(signal, freq_bande)\n",
    "\n",
    "################################################################\n",
    "# tracer le signal initial et le signal filté\n",
    "plt.figure()\n",
    "plt.plot(tps, signal, label='Signal initial')\n",
    "plt.plot(tps, signal_filtre, label='Signal filtré')\n",
    "plt.xlabel('Temps')\n",
    "plt.ylabel('Amplitude')\n",
    "plt.title('Comparaison entre le signal initial et le signal filtré')\n",
    "plt.legend()\n",
    "plt.show()\n",
    "\n",
    "################################################################\n",
    "plt.close('all')\n",
    "\n",
    "# Calcul enveloppe spectrale\n",
    "# spectral_env = spectral_envelope(signal, window_size)\n",
    "spectral_env = spectral_envelope(signal_filtre, window_size)\n",
    "\n",
    "# Normalisation de l'enveloppe\n",
    "spectral_env_normalized = spectral_env / np.max(spectral_env)\n",
    "\n",
    "# Afficher le signal et son enveloppe spectrale\n",
    "plt.figure(figsize=(10, 6))\n",
    "# plt.plot(tps, signal, label='Signal normalisé')           # signal brut\n",
    "# plt.plot(tps, np.abs(signal), label='Signal normalisé')   # val absolue du signal\n",
    "plt.plot(tps, signal_filtre, label='Signal normalisé')      # signal filtre autour de la ère freq fonda\n",
    "plt.plot(tps, spectral_env_normalized, label='Enveloppe spectrale')\n",
    "plt.hlines(seuil, tps[0], tps[-1], label=f'seuil {seuil}')\n",
    "plt.xlabel('Temps')\n",
    "plt.ylabel('Amplitude')\n",
    "plt.title('Enveloppe spectrale par convolution avec fenêtre de Hann')\n",
    "plt.legend()\n",
    "plt.grid(True)\n",
    "plt.show()\n",
    "\n",
    "\n",
    "#################################################################\n",
    "\n",
    "# TRONCATURE DU SIGNAL\n",
    "\n",
    "# Initialiser une liste pour stocker les indices de début et de fin des segments détectés\n",
    "segments = []\n",
    "\n",
    "seuil_depasse = False\n",
    "for i, valeur in enumerate(spectral_env_normalized):\n",
    "    if not seuil_depasse and valeur > seuil:\n",
    "        seuil_depasse = True\n",
    "        segments.append(i)  # Ajouter le moment où le seuil est dépassé\n",
    "    elif seuil_depasse and valeur <= seuil:\n",
    "        seuil_depasse = False\n",
    "        segments.append(i)   \n",
    "\n",
    "print(segments)\n",
    "\n",
    "\n",
    "# Marge autour des indices de détection de seuil \n",
    "marge = 200  \n",
    "\n",
    "# Tronquer le signal autour des indices de détection de seuil\n",
    "signal_tronc_mont = signal[segments[0] - marge:segments[1] + marge]\n",
    "temps_tronc_mont = tps[segments[0] - marge:segments[1] + marge]\n",
    "# Tronquer le signal autour des indices de détection de seuil\n",
    "signal_tronc_desc = signal[segments[2] - marge:segments[-1] + marge+400]\n",
    "temps_tronc_desc = tps[segments[2] - marge : segments[-1] + marge+400]\n",
    "\n",
    "# Calculer la somme cumulée des énergies normalisées\n",
    "e_cum = np.cumsum(spectral_env_normalized)\n",
    "\n",
    "# passage de seuil\n",
    "passage_seuil = []\n",
    "\n",
    "# Parcourir la somme cumulée des énergies\n",
    "for i in range(1, len(e_cum)):\n",
    "    # Si la somme cumulée dépasse le seuil absolu\n",
    "    if e_cum[i] >= seuil and e_cum[i - 1] < seuil:\n",
    "        passage_seuil.append(i)  # Ajouter l'indice où la somme d'énergie cumulée passe au-dessus du seuil\n",
    "    # Si la somme cumulée passe en dessous du seuil absolu\n",
    "    elif e_cum[i] < seuil and e_cum[i - 1] >= seuil:\n",
    "        passage_seuil.append(i)\n",
    "\n",
    "e_cum = normalisation(e_cum)\n",
    "\n",
    "plt.figure(figsize=(10, 6))\n",
    "plt.plot(tps, signal_filtre, label='Signal normalisé')\n",
    "plt.plot(tps, spectral_env_normalized, label='Enveloppe spectrale')\n",
    "plt.plot(tps, e_cum, label='somme cumulée des énergie')\n",
    "plt.grid(True)\n",
    "plt.xlabel('Temps (s)')\n",
    "plt.ylabel('Energie')\n",
    "plt.title('Energie cumulative')\n",
    "plt.legend()\n",
    "\n",
    "plt.figure(figsize=(10, 6))\n",
    "plt.plot(temps_tronc_mont, signal_tronc_mont, label='Signal normalisé')\n",
    "plt.grid(True)\n",
    "plt.xlabel('Temps (s)')\n",
    "plt.ylabel('Amplitude normalisée')\n",
    "plt.title('Signal tronqué - pression croissante')\n",
    "plt.legend()\n",
    "\n",
    "plt.figure(figsize=(10, 6))\n",
    "plt.plot(temps_tronc_desc, signal_tronc_desc, label='Signal normalisé')\n",
    "plt.grid(True)\n",
    "plt.xlabel('Temps (s)')\n",
    "plt.ylabel('Amplitude normalisée')\n",
    "plt.title('Signal tronqué - pression croissante')\n",
    "plt.legend()\n"
   ]
  },
  {
   "cell_type": "code",
   "execution_count": 12,
   "metadata": {},
   "outputs": [
    {
     "ename": "ValueError",
     "evalue": "invalid callable given",
     "output_type": "error",
     "traceback": [
      "\u001b[1;31m---------------------------------------------------------------------------\u001b[0m",
      "\u001b[1;31mValueError\u001b[0m                                Traceback (most recent call last)",
      "Cell \u001b[1;32mIn[12], line 6\u001b[0m\n\u001b[0;32m      3\u001b[0m \u001b[38;5;66;03m# Initialiser un tableau pour stocker l'énergie du signal en fonction du temps\u001b[39;00m\n\u001b[0;32m      4\u001b[0m energie_signal \u001b[38;5;241m=\u001b[39m []\n\u001b[1;32m----> 6\u001b[0m E_t \u001b[38;5;241m=\u001b[39m \u001b[43msp\u001b[49m\u001b[38;5;241;43m.\u001b[39;49m\u001b[43mintegrate\u001b[49m\u001b[38;5;241;43m.\u001b[39;49m\u001b[43mquad\u001b[49m\u001b[43m(\u001b[49m\u001b[43mnp\u001b[49m\u001b[38;5;241;43m.\u001b[39;49m\u001b[43msquare\u001b[49m\u001b[43m(\u001b[49m\u001b[43msignal_tronc_mont\u001b[49m\u001b[43m)\u001b[49m\u001b[43m,\u001b[49m\u001b[43m \u001b[49m\u001b[43mtemps_tronc_mont\u001b[49m\u001b[43m[\u001b[49m\u001b[38;5;241;43m0\u001b[39;49m\u001b[43m]\u001b[49m\u001b[43m,\u001b[49m\u001b[43m \u001b[49m\u001b[43mtemps_tronc_mont\u001b[49m\u001b[43m[\u001b[49m\u001b[38;5;241;43m-\u001b[39;49m\u001b[38;5;241;43m1\u001b[39;49m\u001b[43m]\u001b[49m\u001b[43m)\u001b[49m\n\u001b[0;32m      9\u001b[0m plt\u001b[38;5;241m.\u001b[39mfigure(figsize\u001b[38;5;241m=\u001b[39m(\u001b[38;5;241m10\u001b[39m, \u001b[38;5;241m6\u001b[39m))\n\u001b[0;32m     10\u001b[0m plt\u001b[38;5;241m.\u001b[39mplot(tps[segments[\u001b[38;5;241m0\u001b[39m]:], energie_signal, label\u001b[38;5;241m=\u001b[39m\u001b[38;5;124m'\u001b[39m\u001b[38;5;124mSignal normalisé\u001b[39m\u001b[38;5;124m'\u001b[39m)\n",
      "File \u001b[1;32mc:\\Users\\Admin\\AppData\\Local\\Programs\\Python\\Python310\\lib\\site-packages\\scipy\\integrate\\_quadpack_py.py:464\u001b[0m, in \u001b[0;36mquad\u001b[1;34m(func, a, b, args, full_output, epsabs, epsrel, limit, points, weight, wvar, wopts, maxp1, limlst, complex_func)\u001b[0m\n\u001b[0;32m    461\u001b[0m     \u001b[38;5;28;01mreturn\u001b[39;00m retval\n\u001b[0;32m    463\u001b[0m \u001b[38;5;28;01mif\u001b[39;00m weight \u001b[38;5;129;01mis\u001b[39;00m \u001b[38;5;28;01mNone\u001b[39;00m:\n\u001b[1;32m--> 464\u001b[0m     retval \u001b[38;5;241m=\u001b[39m \u001b[43m_quad\u001b[49m\u001b[43m(\u001b[49m\u001b[43mfunc\u001b[49m\u001b[43m,\u001b[49m\u001b[43m \u001b[49m\u001b[43ma\u001b[49m\u001b[43m,\u001b[49m\u001b[43m \u001b[49m\u001b[43mb\u001b[49m\u001b[43m,\u001b[49m\u001b[43m \u001b[49m\u001b[43margs\u001b[49m\u001b[43m,\u001b[49m\u001b[43m \u001b[49m\u001b[43mfull_output\u001b[49m\u001b[43m,\u001b[49m\u001b[43m \u001b[49m\u001b[43mepsabs\u001b[49m\u001b[43m,\u001b[49m\u001b[43m \u001b[49m\u001b[43mepsrel\u001b[49m\u001b[43m,\u001b[49m\u001b[43m \u001b[49m\u001b[43mlimit\u001b[49m\u001b[43m,\u001b[49m\n\u001b[0;32m    465\u001b[0m \u001b[43m                   \u001b[49m\u001b[43mpoints\u001b[49m\u001b[43m)\u001b[49m\n\u001b[0;32m    466\u001b[0m \u001b[38;5;28;01melse\u001b[39;00m:\n\u001b[0;32m    467\u001b[0m     \u001b[38;5;28;01mif\u001b[39;00m points \u001b[38;5;129;01mis\u001b[39;00m \u001b[38;5;129;01mnot\u001b[39;00m \u001b[38;5;28;01mNone\u001b[39;00m:\n",
      "File \u001b[1;32mc:\\Users\\Admin\\AppData\\Local\\Programs\\Python\\Python310\\lib\\site-packages\\scipy\\integrate\\_quadpack_py.py:611\u001b[0m, in \u001b[0;36m_quad\u001b[1;34m(func, a, b, args, full_output, epsabs, epsrel, limit, points)\u001b[0m\n\u001b[0;32m    609\u001b[0m \u001b[38;5;28;01mif\u001b[39;00m points \u001b[38;5;129;01mis\u001b[39;00m \u001b[38;5;28;01mNone\u001b[39;00m:\n\u001b[0;32m    610\u001b[0m     \u001b[38;5;28;01mif\u001b[39;00m infbounds \u001b[38;5;241m==\u001b[39m \u001b[38;5;241m0\u001b[39m:\n\u001b[1;32m--> 611\u001b[0m         \u001b[38;5;28;01mreturn\u001b[39;00m \u001b[43m_quadpack\u001b[49m\u001b[38;5;241;43m.\u001b[39;49m\u001b[43m_qagse\u001b[49m\u001b[43m(\u001b[49m\u001b[43mfunc\u001b[49m\u001b[43m,\u001b[49m\u001b[43ma\u001b[49m\u001b[43m,\u001b[49m\u001b[43mb\u001b[49m\u001b[43m,\u001b[49m\u001b[43margs\u001b[49m\u001b[43m,\u001b[49m\u001b[43mfull_output\u001b[49m\u001b[43m,\u001b[49m\u001b[43mepsabs\u001b[49m\u001b[43m,\u001b[49m\u001b[43mepsrel\u001b[49m\u001b[43m,\u001b[49m\u001b[43mlimit\u001b[49m\u001b[43m)\u001b[49m\n\u001b[0;32m    612\u001b[0m     \u001b[38;5;28;01melse\u001b[39;00m:\n\u001b[0;32m    613\u001b[0m         \u001b[38;5;28;01mreturn\u001b[39;00m _quadpack\u001b[38;5;241m.\u001b[39m_qagie(func, bound, infbounds, args, full_output, \n\u001b[0;32m    614\u001b[0m                                 epsabs, epsrel, limit)\n",
      "\u001b[1;31mValueError\u001b[0m: invalid callable given"
     ]
    }
   ],
   "source": [
    "plt.close('all')\n",
    "\n",
    "# Initialiser un tableau pour stocker l'énergie du signal en fonction du temps\n",
    "energie_signal = []\n",
    "\n",
    "E_t = sp.integrate.quad(np.square(signal_tronc_mont), temps_tronc_mont[0], temps_tronc_mont[-1])\n",
    "\n",
    "\n",
    "plt.figure(figsize=(10, 6))\n",
    "plt.plot(tps[segments[0]:], energie_signal, label='Signal normalisé')\n",
    "plt.grid(True)\n",
    "plt.xlabel('Temps (s)')\n",
    "plt.ylabel('Amplitude normalisée')\n",
    "plt.title('Signal tronqué - pression croissante')\n",
    "plt.legend()"
   ]
  },
  {
   "cell_type": "code",
   "execution_count": 25,
   "metadata": {},
   "outputs": [
    {
     "name": "stdout",
     "output_type": "stream",
     "text": [
      "(704,)\n",
      "[1.2032 1.216  1.2288 6.016  6.0288 6.0416 6.0544 6.0672 6.08  ]\n",
      "[0.3712 0.4096 1.1392 1.8048 1.9968 2.0864 2.1632 2.304  2.5344 2.5856\n",
      " 2.6624 2.7264 2.9056 5.4528 5.6192 5.632  5.6576 8.0768 8.1024 8.1664\n",
      " 8.4992 8.6272 8.6528 8.832  8.8448]\n"
     ]
    },
    {
     "data": {
      "text/plain": [
       "<matplotlib.legend.Legend at 0x2acac904d30>"
      ]
     },
     "execution_count": 25,
     "metadata": {},
     "output_type": "execute_result"
    }
   ],
   "source": [
    "plt.close('all')\n",
    "\n",
    "# y = p_ext\n",
    "# S, phase = librosa.magphase(librosa.stft(y)) # S=p_int\n",
    "\n",
    "rms = librosa.feature.rms(S=spectrogram_int, frame_length = n_fft).squeeze() # A mettre en dB \n",
    "print(rms.shape)\n",
    "rms_diff = np.diff(rms, 1)\n",
    "max_diff = np.abs(np.max(rms_diff))\n",
    "ind = np.where(rms_diff>0.5*max_diff)[0]\n",
    "print(ind*hop_length/sr)\n",
    "seuil_0_diff = 0.00005\n",
    "ind2 = np.where(np.abs(rms_diff)<seuil_0_diff)[0]\n",
    "print(ind2*hop_length/sr)\n",
    "\n",
    "plt.figure()\n",
    "\n",
    "times = librosa.times_like(rms)\n",
    "plt.plot(times, rms, label='RMS Energy')\n",
    "times = librosa.times_like(rms_diff)\n",
    "plt.plot(times, rms_diff, label='RMS Energy')\n",
    "plt.legend()\n",
    "\n",
    "# librosa.display.specshow(spectrogram_int_db, y_axis='linear', x_axis='time', ax=ax[1])\n",
    "\n",
    "# ax[2].plot(tps, A[:,3], label='micro bec')"
   ]
  },
  {
   "cell_type": "code",
   "execution_count": 20,
   "metadata": {},
   "outputs": [
    {
     "name": "stdout",
     "output_type": "stream",
     "text": [
      "(648,)\n",
      "[2.0224 4.608  4.6208 4.6336 4.6464]\n",
      "[2.944 8.   ]\n"
     ]
    },
    {
     "data": {
      "text/plain": [
       "[Text(0.5, 1.0, 'log Power spectrogram')]"
      ]
     },
     "execution_count": 20,
     "metadata": {},
     "output_type": "execute_result"
    }
   ],
   "source": [
    "plt.close('all')\n",
    "\n",
    "# y = p_ext\n",
    "# S, phase = librosa.magphase(librosa.stft(y)) # S=p_int\n",
    "\n",
    "rms = librosa.feature.rms(S=spectrogram_int, frame_length = n_fft).squeeze() # A mettre en dB \n",
    "print(rms.shape)\n",
    "rms_diff = np.diff(rms, 1)\n",
    "max_diff = np.abs(np.max(rms_diff))\n",
    "ind = np.where(rms_diff>0.5*max_diff)[0]\n",
    "print(ind*hop_length/sr)\n",
    "seuil_0_diff = 0.00005\n",
    "ind2 = np.where(np.abs(rms_diff)<seuil_0_diff)[0]\n",
    "print(ind2*hop_length/sr)\n",
    "\n",
    "fig, ax = plt.subplots(nrows=2, sharex=True)\n",
    "\n",
    "times = librosa.times_like(rms)\n",
    "ax[0].plot(times, rms, label='RMS Energy')\n",
    "times = librosa.times_like(rms_diff)\n",
    "ax[0].plot(times, rms_diff, label='RMS Energy')\n",
    "ax[0].set(xticks=[])\n",
    "ax[0].legend()\n",
    "ax[0].label_outer()\n",
    "\n",
    "librosa.display.specshow(spectrogram_int_db, y_axis='linear', x_axis='time', ax=ax[1])\n",
    "ax[1].set(title='log Power spectrogram')\n",
    "\n",
    "# ax[2].plot(tps, A[:,3], label='micro bec')"
   ]
  },
  {
   "cell_type": "code",
   "execution_count": 41,
   "metadata": {},
   "outputs": [
    {
     "name": "stderr",
     "output_type": "stream",
     "text": [
      "c:\\Users\\Admin\\AppData\\Local\\Programs\\Python\\Python310\\lib\\site-packages\\matplotlib\\cbook.py:1699: ComplexWarning: Casting complex values to real discards the imaginary part\n",
      "  return math.isfinite(val)\n",
      "c:\\Users\\Admin\\AppData\\Local\\Programs\\Python\\Python310\\lib\\site-packages\\matplotlib\\cbook.py:1345: ComplexWarning: Casting complex values to real discards the imaginary part\n",
      "  return np.asarray(x, float)\n"
     ]
    }
   ],
   "source": [
    "\n",
    "plt.close('all')\n",
    "fig, axs = plt.subplots(3, 2, figsize=(12, 7))\n",
    "\n",
    "# FFT\n",
    "fft_int = np.fft.fft(p_int)\n",
    "fft_freq_int = np.fft.fftfreq(p_int.shape[-1])\n",
    "axs[0, 0].plot(fft_freq_int, fft_int)\n",
    "axs[0, 0].set_xlabel('Frequence (Hz)')\n",
    "axs[0, 0].set_ylabel('Amplitude (mV)')\n",
    "axs[0, 0].set_title('Intérieur Bec \\n FFT')\n",
    "axs[0, 0].set_xlim([0, 0.4])\n",
    "axs[0, 0].set_ylim([0, None])\n",
    "\n",
    "fft_ext = np.fft.fft(p_ext)\n",
    "fft_freq_ext = np.fft.fftfreq(p_ext.shape[-1])\n",
    "axs[0, 1].plot(fft_freq_ext, fft_ext)\n",
    "axs[0, 1].set_xlabel('Frequence (Hz)')\n",
    "axs[0, 1].set_ylabel('Amplitude (mV)')\n",
    "axs[0, 1].set_title('Extérieur Bec \\n FFT')\n",
    "axs[0, 1].set_xlim([0, 0.4])\n",
    "axs[0, 1].set_ylim([0, None])\n",
    "\n",
    "# SIGNAUX TEMPORELS\n",
    "axs[1, 0].plot(tps, p_int, label='micro ext')\n",
    "S, phase = librosa.magphase(librosa.stft(p_int))\n",
    "rms = librosa.feature.rms(S=S)\n",
    "times = librosa.times_like(rms)\n",
    "# axs[1, 0].plot(times, rms[0], label='RMS Energy')\n",
    "axs[1, 0].set_title('Signal temporel')\n",
    "axs[1, 0].set_xlabel('Temps (s)')\n",
    "axs[1, 0].set_ylabel('Amplitude (mV)')\n",
    "\n",
    "axs[1, 1].plot(tps, p_ext, label='micro int')\n",
    "axs[1, 1].set_title('Signal temporel')\n",
    "axs[1, 1].set_xlabel('Temps (s)')\n",
    "axs[1, 1].set_ylabel('Amplitude (mV)')\n",
    "\n",
    "\n",
    "# SPRECTRO\n",
    "spectrogram_int = librosa.feature.melspectrogram(y=p_int)\n",
    "spectrogram_ext = librosa.feature.melspectrogram(y=p_ext)\n",
    "\n",
    "# Convertir l'échelle en décibels (dB)\n",
    "spectrogram_int_db = librosa.power_to_db(spectrogram_int, ref=np.max)\n",
    "spectrogram_ext_db = librosa.power_to_db(spectrogram_ext, ref=np.max)\n",
    "\n",
    "img_int = librosa.display.specshow(spectrogram_int_db, ax=axs[2, 0])\n",
    "# p_int.set_colorbar(format='%+2.0f dB')\n",
    "# cbar = fig.colorbar(img_int, ax=axs[2,0], format='%+2.0f dB')\n",
    "# cbar.set_label('Amplitude (dB)')\n",
    "axs[2, 0].set_title('Pression interne au bec')\n",
    "axs[2, 0].set_xlabel('Temps (s)')\n",
    "axs[2, 0].set_ylabel('Frequence (Hz)')\n",
    "\n",
    "img_ext = librosa.display.specshow(spectrogram_ext_db, x_axis='time', y_axis='mel', ax=axs[2, 1])\n",
    "# cbar = fig.colorbar(img_ext, ax=axs[2, 1], format='%+2.0f dB')\n",
    "cbar.set_label('Amplitude (dB)')\n",
    "axs[2, 1].set_title('Pression externe au bec')\n",
    "axs[2, 1].set_xlabel('Temps (s)')\n",
    "axs[2, 1].set_ylabel('Frequence (Hz)')\n",
    "\n",
    "# CGS_int = librosa.feature.spectral_centroid(y=p_int)\n",
    "# CGS_ext = librosa.feature.spectral_centroid(y=p_ext)\n",
    "# axs[3,0].plot(CGS_int.squeeze())\n",
    "# axs[3,1].plot(CGS_ext.squeeze())\n",
    "\n",
    "# fig.suptitle('Spectrogrammes', fontsize=20)\n",
    "plt.tight_layout()\n",
    "plt.show()"
   ]
  },
  {
   "cell_type": "code",
   "execution_count": 73,
   "metadata": {},
   "outputs": [
    {
     "name": "stdout",
     "output_type": "stream",
     "text": [
      "68863\n",
      "134\n",
      "134\n",
      "(135,)\n"
     ]
    },
    {
     "data": {
      "text/plain": [
       "<matplotlib.legend.Legend at 0x22a21c1e170>"
      ]
     },
     "execution_count": 73,
     "metadata": {},
     "output_type": "execute_result"
    }
   ],
   "source": [
    "plt.close('all')\n",
    "plt.figure()\n",
    "\n",
    "# on peut aussi demander à librosa de traduire notre temps (tps) en frame directement\n",
    "# times = librosa.times_like(CGS_int)\n",
    "print(len(tps))\n",
    "# t = librosa.time_to_frames(tps, sr=sr, hop_length=n_fft//4)\n",
    "# print(t.shape)\n",
    "t_max = len(p_int)//sr\n",
    "N = len(p_int)//n_fft\n",
    "print(N)\n",
    "t = np.linspace(0, t_max, N)\n",
    "\n",
    "\n",
    "\n",
    "CGS_int = librosa.feature.spectral_centroid(y=p_int, sr=sr, n_fft=n_fft).squeeze()\n",
    "CGS_ext = librosa.feature.spectral_centroid(y=p_ext, sr=sr, n_fft=n_fft).squeeze()\n",
    "n=min(len(t), len(CGS_int))\n",
    "print(n)\n",
    "\n",
    "print(CGS_int.shape)\n",
    "plt.plot(t[:n], CGS_int[:n], label='int')\n",
    "plt.plot(t[:n], CGS_ext[:n], label='ext')\n",
    "plt.xlabel('Time')\n",
    "plt.ylabel('CGS (Hz)')\n",
    "plt.legend()\n",
    "# reg = LinearRegression()\n",
    "# reg.fit(force,CGS)\n",
    "# reg.score(X,CGS)"
   ]
  },
  {
   "cell_type": "code",
   "execution_count": null,
   "metadata": {},
   "outputs": [
    {
     "name": "stdout",
     "output_type": "stream",
     "text": [
      "Énergie du signal: (1, 194)\n",
      "MFCC: (13, 194)\n",
      "Chroma: (12, 194)\n",
      "Zero-Crossing Rate: (1, 194)\n",
      "Spectral Centroid: (1, 194)\n",
      "Spectral Contrast: (7, 194)\n",
      "Spectral Rolloff: (1, 194)\n",
      "MFCC Delta: (13, 194)\n",
      "MFCC Delta-Delta: (13, 194)\n",
      "Centres de bande de fréquences: (1, 194)\n"
     ]
    }
   ],
   "source": [
    "\n",
    "# Charger le fichier audio\n",
    "signal = p_ext\n",
    "# sr = None\n",
    "\n",
    "# Extraire les descripteurs audio\n",
    "energie = librosa.feature.rms(y=signal)\n",
    "mfcc = librosa.feature.mfcc(y=signal, n_mfcc=13)\n",
    "chroma = librosa.feature.chroma_stft(y=signal)\n",
    "zero_crossing_rate = librosa.feature.zero_crossing_rate(y=signal)\n",
    "spectral_centroid = librosa.feature.spectral_centroid(y=signal)\n",
    "spectral_contrast = librosa.feature.spectral_contrast(y=signal)\n",
    "spectral_rolloff = librosa.feature.spectral_rolloff(y=signal)\n",
    "mfcc_delta = librosa.feature.delta(mfcc)\n",
    "mfcc_delta_delta = librosa.feature.delta(mfcc, order=2)\n",
    "centres_bandes = librosa.feature.spectral_centroid(y=signal, n_fft=2048, hop_length=512)\n",
    "\n",
    "# Afficher les dimensions de chaque descripteur\n",
    "# print(\"Énergie du signal:\", energie.shape)\n",
    "print(\"MFCC:\", mfcc.shape)\n",
    "# print(\"Chroma:\", chroma.shape)\n",
    "print(\"Zero-Crossing Rate:\", zero_crossing_rate.shape)\n",
    "print(\"Spectral Centroid:\", spectral_centroid.shape)\n",
    "print(\"Spectral Contrast:\", spectral_contrast.shape)\n",
    "print(\"Spectral Rolloff:\", spectral_rolloff.shape)\n",
    "print(\"MFCC Delta:\", mfcc_delta.shape)\n",
    "print(\"MFCC Delta-Delta:\", mfcc_delta_delta.shape)\n",
    "print(\"Centres de bande de fréquences:\", centres_bandes.shape)\n",
    "\n"
   ]
  },
  {
   "cell_type": "markdown",
   "metadata": {},
   "source": [
    "### Pression de seuil"
   ]
  }
 ],
 "metadata": {
  "kernelspec": {
   "display_name": "Python 3",
   "language": "python",
   "name": "python3"
  },
  "language_info": {
   "codemirror_mode": {
    "name": "ipython",
    "version": 3
   },
   "file_extension": ".py",
   "mimetype": "text/x-python",
   "name": "python",
   "nbconvert_exporter": "python",
   "pygments_lexer": "ipython3",
   "version": "3.10.8"
  }
 },
 "nbformat": 4,
 "nbformat_minor": 2
}
