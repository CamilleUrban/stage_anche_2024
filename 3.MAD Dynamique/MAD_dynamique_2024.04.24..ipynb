{
 "cells": [
  {
   "cell_type": "markdown",
   "metadata": {},
   "source": [
    "# MAD Dynamique <br>\n",
    "### STAGE ANCHES <br>\n",
    "Camille Urban <br>\n",
    "22/03/2024"
   ]
  },
  {
   "cell_type": "code",
   "execution_count": 3,
   "metadata": {},
   "outputs": [],
   "source": [
    "# classic shit\n",
    "import numpy as np\n",
    "import matplotlib.pyplot as plt\n",
    "import pandas as pd\n",
    "import scipy as sp\n",
    "from scipy.signal import butter, filtfilt\n",
    "\n",
    "#librosa\n",
    "import librosa\n",
    "import librosa.display\n",
    "\n",
    "# traitement image\n",
    "from skimage.io import imread\n",
    "from skimage.transform import rotate\n",
    "# from im_rotate import im_rotate\n",
    "import os"
   ]
  },
  {
   "cell_type": "code",
   "execution_count": 4,
   "metadata": {},
   "outputs": [
    {
     "name": "stdout",
     "output_type": "stream",
     "text": [
      "Using matplotlib backend: TkAgg\n",
      "Using matplotlib backend: TkAgg\n"
     ]
    }
   ],
   "source": [
    "%matplotlib\n",
    "%matplotlib"
   ]
  },
  {
   "cell_type": "markdown",
   "metadata": {},
   "source": [
    "## Paramètres du Banc"
   ]
  },
  {
   "cell_type": "code",
   "execution_count": 66,
   "metadata": {},
   "outputs": [],
   "source": [
    "# SENSIBILITE CAPTEURS\n",
    "S_mic_int =  0.0841  # Sensibilité du capteur de pression interne (mV/Pa)\n",
    "Offset_mic_int = 51.2   # (mV) \n",
    "# G_micro_int = 10 V\n",
    "S_force = 39.2 # mV/N\n",
    "# Offset_force = \n",
    "# G_force = 10 V\n",
    "# étalonnage de micro exterieur par source étalon 1kHz à 97dB\n",
    "\n",
    "# FRQ ECHANTILLONNAGE\n",
    "sr = 10000 \n",
    "n_fft = 512 # env. 50ms\n",
    "# hop_length = n_fft / 4  # = 12.5ms (pas de décalage de la fenêtre)\n",
    "hop_length = n_fft / 4\n",
    "p_ref = 2e-5\n",
    "\n",
    "largeur_bande = 100\n"
   ]
  },
  {
   "cell_type": "code",
   "execution_count": 67,
   "metadata": {},
   "outputs": [],
   "source": [
    "dossier = 'mes_2024.04.19/'\n",
    "nom_fichier = 'anche'\n",
    "\n",
    "data = pd.read_table(dossier + nom_fichier + '2', sep='\\t', header=2).values\n",
    "tps = data[:,0]\n",
    "force = data[:,1]/S_force\n",
    "p_int = (data[:,2])/S_mic_int\n",
    "# print(type(p_int))\n",
    "p_ext = data[:,3]\n",
    "# vib = data[:,4]\n",
    "\n",
    "\n",
    "nombre_anches = 5\n"
   ]
  },
  {
   "cell_type": "markdown",
   "metadata": {},
   "source": [
    "# Traitement données"
   ]
  },
  {
   "cell_type": "markdown",
   "metadata": {},
   "source": [
    "### Normalisation"
   ]
  },
  {
   "cell_type": "code",
   "execution_count": 68,
   "metadata": {},
   "outputs": [],
   "source": [
    "# NORMALISATION\n",
    " \n",
    "def normalisation(signal):\n",
    "    # normalized_signal = signal / np.mean(signal)\n",
    "    normalized_signal = signal / np.max(signal)\n",
    "    return normalized_signal\n",
    "\n",
    "\n",
    "plot_fig = False\n",
    "plt.close('all')\n",
    "signal = p_int\n",
    "if plot_fig :\n",
    "    plt.figure()\n",
    "    plt.plot(tps, signal, label='Signal initial')\n",
    "    plt.plot(tps, normalisation(signal), label='Signal normalisé')\n",
    "    plt.xlabel('Temps (s)')\n",
    "    plt.ylabel('Amplitude')\n",
    "    # plt.title('')\n",
    "    plt.legend()\n",
    "    plt.show()\n"
   ]
  },
  {
   "cell_type": "markdown",
   "metadata": {},
   "source": [
    "### Fréquence fondamentale "
   ]
  },
  {
   "cell_type": "code",
   "execution_count": 69,
   "metadata": {},
   "outputs": [],
   "source": [
    "print_frq = True\n",
    "\n",
    "def freq_fond(signal, sr) :  \n",
    "    TF = np.fft.fft(signal)\n",
    "    freqs = np.fft.fftfreq(len(signal), d=1/sr)         # valeurs des frequences du spectre \n",
    "    indice_fonda = np.argmax(np.abs(TF[1:])) + 1        # indice de la frequence fondamentale (+1 pour éviter l'offset en 0)\n",
    "    freq_fonda = np.abs(freqs[indice_fonda])            # fréquence fondamentale\n",
    "    if print_frq : \n",
    "        print(\"Fréquence fondamentale :\", freq_fonda)\n",
    "    return freq_fonda\n"
   ]
  },
  {
   "cell_type": "markdown",
   "metadata": {},
   "source": [
    "### Filtrer le signale fréquentiellement autour de la fondamentale"
   ]
  },
  {
   "cell_type": "code",
   "execution_count": 73,
   "metadata": {},
   "outputs": [],
   "source": [
    "# Retourne le signal filtré autour de la fréquence fondamentale\n",
    "# Prend en entrée le signal et la largeur de la bande passante autour de la fréquence fondamentale\n",
    "# largeur de la bande frequentielle - freq_bande = 100   \n",
    "def filtered_sig(signal, sr, largeur_bande):\n",
    "    freq_fonda = freq_fond(signal, sr)\n",
    "    \n",
    "    # Definition de l'ordre du filtre\n",
    "    ordre_filtre = 4  \n",
    "    \n",
    "    # Calcul des fréquences de coupure\n",
    "    freq_coup_inf = freq_fonda - largeur_bande / 2\n",
    "    freq_coup_sup = freq_fonda + largeur_bande / 2\n",
    "\n",
    "    # fréquences de coupure en fréquences normalisées\n",
    "    frequence_coupure_inf_norm = freq_coup_inf / (sr / 2)\n",
    "    frequence_coupure_sup_norm = freq_coup_sup / (sr / 2)\n",
    "\n",
    "    # Création du filtre passe-bande\n",
    "    b, a = butter(ordre_filtre, [frequence_coupure_inf_norm, frequence_coupure_sup_norm], btype='band')\n",
    "\n",
    "    # Filtrage du signal\n",
    "    signal_filtre = filtfilt(b, a, signal)\n",
    "    return signal_filtre\n",
    "\n",
    "\n",
    "plot_fig = False\n",
    "plt.close('all')\n",
    "signal = p_int\n",
    "if plot_fig :\n",
    "    plt.figure()\n",
    "    plt.plot(tps, normalisation(signal), label='Signal normalisé')\n",
    "    plt.plot(tps, filtered_sig(normalisation(signal), sr=sr, largeur_bande=largeur_bande), label='Signal normalisé filtré')\n",
    "    plt.xlabel('Temps (s)')\n",
    "    plt.ylabel('Amplitude normalisée')\n",
    "    plt.title('Comparaison entre le signal initial et le signal filtré')\n",
    "    plt.legend()\n",
    "    plt.show()"
   ]
  },
  {
   "cell_type": "markdown",
   "metadata": {},
   "source": [
    "### Enveloppe Spectrale"
   ]
  },
  {
   "cell_type": "code",
   "execution_count": 80,
   "metadata": {},
   "outputs": [],
   "source": [
    "# Fonction pour calculer l'enveloppe spectrale par convolution avec fenêtre de Hann\n",
    "def spectral_envelope(signal, window_size): \n",
    "    # Calculer le nombre de segments\n",
    "    num_segments = len(signal) // window_size\n",
    "    \n",
    "    # Initialiser l'enveloppe spectrale\n",
    "    spectral_env = np.zeros(len(signal))\n",
    "    \n",
    "    # fenêtrage de Hann sur chaque segment et TF\n",
    "    for i in range(num_segments):\n",
    "        start_idx = i * window_size\n",
    "        end_idx = (i + 1) * window_size\n",
    "        segment = signal[start_idx:end_idx]\n",
    "        \n",
    "        # fenêtrage\n",
    "        segment *= sp.signal.windows.hann(window_size)\n",
    "        \n",
    "        # TF et amplitude\n",
    "        spectrum = np.fft.fft(segment)\n",
    "        amplitude = np.abs(spectrum)\n",
    "        \n",
    "        spectral_env[start_idx:end_idx] = amplitude\n",
    "    \n",
    "    # Lissage par convolution\n",
    "    spectral_env = np.convolve(spectral_env, np.ones(window_size) / window_size, mode='same')\n",
    "    \n",
    "    return spectral_env\n",
    "\n",
    "plot_fig = False\n",
    "plt.close('all')\n",
    "signal = p_int\n",
    "if plot_fig :\n",
    "    plt.figure()\n",
    "    plt.plot(tps, filtered_sig(normalisation(signal), sr=sr, largeur_bande=largeur_bande), label='Signal normalisé filtré')\n",
    "    plt.plot(tps, spectral_envelope(filtered_sig(normalisation(signal), sr=sr, largeur_bande=largeur_bande), window_size=n_fft), label='Enveloppe spectrale')\n",
    "    plt.xlabel('Temps (s)')\n",
    "    plt.ylabel('Amplitude normalisée')\n",
    "    plt.title('Enveloppe spectrale du signal filtré autour de la fréquence fondamentale')\n",
    "    plt.legend()\n",
    "    plt.show()"
   ]
  },
  {
   "cell_type": "markdown",
   "metadata": {},
   "source": [
    "### Seuillage"
   ]
  },
  {
   "cell_type": "code",
   "execution_count": 93,
   "metadata": {},
   "outputs": [
    {
     "name": "stdout",
     "output_type": "stream",
     "text": [
      "Fréquence fondamentale : 209.6620570753409\n",
      "Fréquence fondamentale : 209.6620570753409\n",
      "Fréquence fondamentale : 209.6620570753409\n",
      "0.0031222343105706866\n"
     ]
    }
   ],
   "source": [
    "# Détermination du seuil de détéction paour chaque l'enveloppe spectrale du signal normalisé et filtré autour de f_0\n",
    "# On prend le seuillage sur 100ms \n",
    "print_seuil = True\n",
    "\n",
    "def seuillage(signal, sr, largeur_bande, window_size):\n",
    "    signal = normalisation(signal)\n",
    "    signal = filtered_sig(signal, sr, largeur_bande)\n",
    "    signal = spectral_envelope(signal, window_size)\n",
    "    \n",
    "    longueur_selection = int(0.1*sr) \n",
    "    selection = signal[:longueur_selection]\n",
    "    moyenne = np.mean(selection)\n",
    "    e_type = np.std(selection)\n",
    "    seuil = moyenne + 2* e_type \n",
    "    if print_seuil:\n",
    "        print(seuil)\n",
    "    return seuil\n",
    "\n",
    "plot_fig = True\n",
    "plt.close('all')\n",
    "signal = p_int\n",
    "if plot_fig :\n",
    "    plt.figure()\n",
    "    plt.plot(tps, filtered_sig(normalisation(signal), sr=sr, largeur_bande=largeur_bande), label='Signal normalisé filtré')\n",
    "    plt.plot(tps, spectral_envelope(filtered_sig(normalisation(signal), sr=sr, largeur_bande=largeur_bande), window_size=n_fft), label='Enveloppe spectrale')\n",
    "    plt.hlines(seuillage(signal, sr=sr, largeur_bande=largeur_bande, window_size=n_fft), tps[0], tps[-1], color='yellow', label='Signal normalisé filtré')\n",
    "    plt.xlabel('Temps')\n",
    "    plt.ylabel('Amplitude')\n",
    "    plt.title('Comparaison entre le signal initial et le signal filtré')\n",
    "    plt.legend()\n",
    "    plt.show()"
   ]
  },
  {
   "cell_type": "markdown",
   "metadata": {},
   "source": [
    "### Troncatures"
   ]
  },
  {
   "cell_type": "code",
   "execution_count": 108,
   "metadata": {},
   "outputs": [
    {
     "name": "stdout",
     "output_type": "stream",
     "text": [
      "Fréquence fondamentale : 209.6620570753409\n",
      "Fréquence fondamentale : 209.6620570753409\n",
      "0.0031222343105706866\n",
      "[]\n"
     ]
    },
    {
     "ename": "IndexError",
     "evalue": "list index out of range",
     "output_type": "error",
     "traceback": [
      "\u001b[1;31m---------------------------------------------------------------------------\u001b[0m",
      "\u001b[1;31mIndexError\u001b[0m                                Traceback (most recent call last)",
      "Cell \u001b[1;32mIn[108], line 42\u001b[0m\n\u001b[0;32m     37\u001b[0m     idx \u001b[38;5;241m=\u001b[39m np\u001b[38;5;241m.\u001b[39marray(idx_tr[\u001b[38;5;241m0\u001b[39m], idx_sec[\u001b[38;5;241m0\u001b[39m], idx_sec[\u001b[38;5;241m1\u001b[39m], idx_tr[\u001b[38;5;241m1\u001b[39m], idx_tr[\u001b[38;5;241m2\u001b[39m], idx_sec[\u001b[38;5;241m2\u001b[39m], idx_sec[\u001b[38;5;241m3\u001b[39m], idx_tr[\u001b[38;5;241m-\u001b[39m\u001b[38;5;241m1\u001b[39m])\n\u001b[0;32m     39\u001b[0m     \u001b[38;5;28;01mreturn\u001b[39;00m idx\n\u001b[1;32m---> 42\u001b[0m \u001b[43mtroncature\u001b[49m\u001b[43m(\u001b[49m\u001b[43msignal\u001b[49m\u001b[38;5;241;43m=\u001b[39;49m\u001b[43mp_int\u001b[49m\u001b[43m,\u001b[49m\u001b[43m \u001b[49m\u001b[43msr\u001b[49m\u001b[38;5;241;43m=\u001b[39;49m\u001b[43msr\u001b[49m\u001b[43m,\u001b[49m\u001b[43m \u001b[49m\u001b[43mlargeur_bande\u001b[49m\u001b[38;5;241;43m=\u001b[39;49m\u001b[38;5;241;43m100\u001b[39;49m\u001b[43m,\u001b[49m\u001b[43m \u001b[49m\u001b[43mwindow_size\u001b[49m\u001b[38;5;241;43m=\u001b[39;49m\u001b[43mn_fft\u001b[49m\u001b[43m)\u001b[49m\n",
      "Cell \u001b[1;32mIn[108], line 37\u001b[0m, in \u001b[0;36mtroncature\u001b[1;34m(signal, sr, largeur_bande, window_size)\u001b[0m\n\u001b[0;32m     35\u001b[0m \u001b[38;5;28mprint\u001b[39m(idx_sec)\n\u001b[0;32m     36\u001b[0m e_cum \u001b[38;5;241m=\u001b[39m normalisation(e_cum)\n\u001b[1;32m---> 37\u001b[0m idx \u001b[38;5;241m=\u001b[39m np\u001b[38;5;241m.\u001b[39marray(idx_tr[\u001b[38;5;241m0\u001b[39m], \u001b[43midx_sec\u001b[49m\u001b[43m[\u001b[49m\u001b[38;5;241;43m0\u001b[39;49m\u001b[43m]\u001b[49m, idx_sec[\u001b[38;5;241m1\u001b[39m], idx_tr[\u001b[38;5;241m1\u001b[39m], idx_tr[\u001b[38;5;241m2\u001b[39m], idx_sec[\u001b[38;5;241m2\u001b[39m], idx_sec[\u001b[38;5;241m3\u001b[39m], idx_tr[\u001b[38;5;241m-\u001b[39m\u001b[38;5;241m1\u001b[39m])\n\u001b[0;32m     39\u001b[0m \u001b[38;5;28;01mreturn\u001b[39;00m idx\n",
      "\u001b[1;31mIndexError\u001b[0m: list index out of range"
     ]
    }
   ],
   "source": [
    "def troncature(signal, sr, largeur_bande, window_size) : \n",
    "    # Signal filtré\n",
    "    signal_filtre = filtered_sig(signal, sr, largeur_bande)\n",
    "    # Enveloppe spectrale\n",
    "    env_spec = spectral_envelope(signal_filtre, window_size)\n",
    "    # Normalisation de l'enveloppe\n",
    "    env_spec = spectral_envelope(signal_filtre, window_size) / np.max(spectral_envelope(signal_filtre, window_size))\n",
    "\n",
    "    # Seuil \n",
    "    seuil = seuillage(signal, sr, largeur_bande, window_size)\n",
    "    \n",
    "    idx_tr =[]\n",
    "    seuil_depasse = False\n",
    "    for i, valeur in enumerate(env_spec):\n",
    "        if not seuil_depasse and valeur > seuil:\n",
    "            seuil_depasse = True\n",
    "            idx_tr.append(i)  # Ajouter le moment où le seuil est dépassé\n",
    "        elif seuil_depasse and valeur <= seuil:\n",
    "            seuil_depasse = False\n",
    "            idx_tr.append(i)   \n",
    "           \n",
    "    # # Tronquer le signal autour des indices de détection de seuil\n",
    "    # idx_tr1_deb = idx_tr[0]\n",
    "    # idx_tr1_fin = idx_tr[1]\n",
    "    # idx_tr2_deb = idx_tr[2]\n",
    "    # idx_tr2_fin = idx_tr[-1]\n",
    "    \n",
    "    # Calculer la somme cumulée des énergies normalisées\n",
    "    e_cum = np.cumsum(env_spec)\n",
    "\n",
    "    # passage de seuil\n",
    "    idx_sec = []\n",
    "    \n",
    "    #Faire la division avec calcul energie pour chaque sous section\n",
    "    print(idx_sec)\n",
    "    e_cum = normalisation(e_cum)\n",
    "    idx = np.array(idx_tr[0], idx_sec[0], idx_sec[1], idx_tr[1], idx_tr[2], idx_sec[2], idx_sec[3], idx_tr[-1])\n",
    "    \n",
    "    return idx\n",
    "\n",
    "\n",
    "troncature(signal=p_int, sr=sr, largeur_bande=100, window_size=n_fft)"
   ]
  },
  {
   "cell_type": "markdown",
   "metadata": {},
   "source": [
    "# Obsolet"
   ]
  },
  {
   "cell_type": "markdown",
   "metadata": {},
   "source": [
    "### Extraction de données et plots temporels"
   ]
  },
  {
   "cell_type": "code",
   "execution_count": 1,
   "metadata": {},
   "outputs": [
    {
     "ename": "NameError",
     "evalue": "name 'pd' is not defined",
     "output_type": "error",
     "traceback": [
      "\u001b[1;31m---------------------------------------------------------------------------\u001b[0m",
      "\u001b[1;31mNameError\u001b[0m                                 Traceback (most recent call last)",
      "Cell \u001b[1;32mIn[1], line 33\u001b[0m\n\u001b[0;32m     30\u001b[0m     \u001b[38;5;28;01mreturn\u001b[39;00m temps, forces, p_ints, p_exts\n\u001b[0;32m     31\u001b[0m     \u001b[38;5;66;03m# return temps, forces, p_ints, p_exts, vib\u001b[39;00m\n\u001b[1;32m---> 33\u001b[0m temps, forces, p_ints, p_exts \u001b[38;5;241m=\u001b[39m \u001b[43mread_datas\u001b[49m\u001b[43m(\u001b[49m\u001b[38;5;241;43m5\u001b[39;49m\u001b[43m)\u001b[49m\n\u001b[0;32m     35\u001b[0m \u001b[38;5;28;01mdef\u001b[39;00m \u001b[38;5;21mplot_signaux_init\u001b[39m(nbre_anches):\n\u001b[0;32m     36\u001b[0m     plt\u001b[38;5;241m.\u001b[39mclose(\u001b[38;5;124m'\u001b[39m\u001b[38;5;124mall\u001b[39m\u001b[38;5;124m'\u001b[39m)\n",
      "Cell \u001b[1;32mIn[1], line 11\u001b[0m, in \u001b[0;36mread_datas\u001b[1;34m(nbre_anches)\u001b[0m\n\u001b[0;32m      9\u001b[0m vibs \u001b[38;5;241m=\u001b[39m []\n\u001b[0;32m     10\u001b[0m \u001b[38;5;28;01mfor\u001b[39;00m i \u001b[38;5;129;01min\u001b[39;00m \u001b[38;5;28mrange\u001b[39m (nbre_anches):\n\u001b[1;32m---> 11\u001b[0m     data \u001b[38;5;241m=\u001b[39m \u001b[43mpd\u001b[49m\u001b[38;5;241m.\u001b[39mread_table( dossier \u001b[38;5;241m+\u001b[39m nom_fichier \u001b[38;5;241m+\u001b[39m \u001b[38;5;124mf\u001b[39m\u001b[38;5;124m'\u001b[39m\u001b[38;5;132;01m{\u001b[39;00mi\u001b[38;5;241m+\u001b[39m\u001b[38;5;241m1\u001b[39m\u001b[38;5;132;01m}\u001b[39;00m\u001b[38;5;124m'\u001b[39m, sep\u001b[38;5;241m=\u001b[39m\u001b[38;5;124m'\u001b[39m\u001b[38;5;130;01m\\t\u001b[39;00m\u001b[38;5;124m'\u001b[39m, header\u001b[38;5;241m=\u001b[39m\u001b[38;5;241m2\u001b[39m)\n\u001b[0;32m     12\u001b[0m     \u001b[38;5;66;03m# A.append(data)\u001b[39;00m\n\u001b[0;32m     13\u001b[0m     A \u001b[38;5;241m=\u001b[39m np\u001b[38;5;241m.\u001b[39marray(data)\n",
      "\u001b[1;31mNameError\u001b[0m: name 'pd' is not defined"
     ]
    }
   ],
   "source": [
    "# LECTURE ET PLOT DES DONNEES NORMALISEES\n",
    "\n",
    "def read_datas(nbre_anches) :\n",
    "    temps = []\n",
    "    forces = []\n",
    "    p_ints = []\n",
    "    p_exts = []\n",
    "    vibs = []\n",
    "    for i in range (nbre_anches):\n",
    "        data = pd.read_table( dossier + nom_fichier + f'{i+1}', sep='\\t', header=2).values\n",
    "        tps = data[:,0]\n",
    "        # tps = normalisation(tps)\n",
    "        temps.append(tps)\n",
    "        force = data[:,1]/S_force\n",
    "        force = normalisation(force)\n",
    "        forces.append(force)\n",
    "        p_int = (data[:,2])/S_mic_int\n",
    "        p_int = normalisation(p_int)\n",
    "        p_ints.append(p_int)\n",
    "        p_ext = data[:,3]\n",
    "        p_ext = normalisation(p_ext)\n",
    "        p_exts.append(p_ext)\n",
    "        # vib = data[:,4]\n",
    "        # vib = normalisation(vib)\n",
    "        # vibs.append(vib)\n",
    "    return temps, forces, p_ints, p_exts\n",
    "    # return temps, forces, p_ints, p_exts, vib\n",
    "\n",
    "temps, forces, p_ints, p_exts = read_datas(5)\n",
    "\n",
    "def plot_signaux_init(nbre_anches):\n",
    "    plt.close('all')\n",
    "    temps, forces, p_ints, p_exts = read_data(nbre_anches)\n",
    "    for i in range(nbre_anches):\n",
    "        # configuration d'afficage\n",
    "        fig, axs = plt.subplots(2, 2, gridspec_kw={'width_ratios': [1, 1], 'height_ratios': [1, 1]})\n",
    "        fig.subplots_adjust(left=0.1, right=0.9, bottom=0.1, top=0.9, wspace=0.4, hspace=0.4)\n",
    "        fig.suptitle(f'Signaux normalisés \\nAnche n° {i}', fontsize=16)\n",
    "        # données à afficher\n",
    "        axs[0,0].plot(temps[i], forces[i], color='red')\n",
    "        axs[0,0].set_title('Force (N)', fontsize=14)\n",
    "        # axs[0,1].plot(temps[i], vib[i], color='green')\n",
    "        axs[0,1].set_title('Déplacement (mm)', fontsize=14)\n",
    "        axs[1,1].plot(temps[i], p_exts[i], color='purple')\n",
    "        axs[1,1].set_title('Pression externe (Pa)', fontsize=14)\n",
    "        axs[1,0].plot(temps[i], p_ints[i], )\n",
    "        axs[1,0].set_title('Pression interne (Pa)', fontsize=14)\n",
    "        # définition axes\n",
    "        for ax in axs.flat:\n",
    "            ax.set_xlabel('Temps (s)', fontsize=12)\n",
    "            ax.set_ylabel('Amplitude (Pa)', fontsize=12)\n",
    "            ax.grid(True)\n",
    "        \n",
    "        # plt.tight_layout()\n",
    "        plt.show()\n",
    "\n",
    "plot_signaux_init(5)"
   ]
  },
  {
   "cell_type": "markdown",
   "metadata": {},
   "source": [
    "### Spectrogramme des signaux en pression (microphone interne et externe)"
   ]
  },
  {
   "cell_type": "code",
   "execution_count": 25,
   "metadata": {},
   "outputs": [],
   "source": [
    "# Retourne les sepctrogramme sur la pression interne et externe en dB et les plot\n",
    "def plot_spectro(nbre_anches, n_fft):\n",
    "    temps, forces, p_ints, p_exts = read_data(nbre_anches) \n",
    "    for i in range (nbre_anches):\n",
    "        # Spectrogramme\n",
    "        spectrogram_int = np.abs(librosa.stft(y=p_ints[i], n_fft=n_fft))\n",
    "        spectrogram_ext = np.abs(librosa.stft(y=p_exts[i], n_fft=n_fft))\n",
    "        # Mise en dB\n",
    "        spectrogram_int_db = librosa.power_to_db(spectrogram_int**2, ref=p_ref**2)\n",
    "        spectrogram_ext_db = librosa.power_to_db(spectrogram_ext**2, ref=p_ref**2)\n",
    "        \n",
    "        # Affichages des spectrogrammes\n",
    "        fig, (pres_int, pres_ext) = plt.subplots(1, 2, figsize=(10, 4))\n",
    "        fig.subplots_adjust(left=0.1, right=0.9, bottom=0.1, top=0.9, wspace=0.4, hspace=0.4)\n",
    "        fig.suptitle(f'Sepctrogrammes \\nAnche n° {i}', fontsize=16)\n",
    "        \n",
    "        img_int = librosa.display.specshow(spectrogram_int_db, sr=sr, hop_length=hop_length, x_axis='time', y_axis='mel', ax=pres_int)\n",
    "        cbar = fig.colorbar(img_int, ax=pres_int, format='%+2.0f dB')\n",
    "        cbar.set_label('Amplitude (dB)')\n",
    "        pres_int.set_title('Pression interne au bec')\n",
    "\n",
    "        img_ext = librosa.display.specshow(spectrogram_ext_db, sr=sr, hop_length=hop_length, x_axis='time', y_axis='mel', ax=pres_ext)\n",
    "        cbar = fig.colorbar(img_ext, ax=pres_ext, format='%+2.0f dB')\n",
    "        cbar.set_label('Amplitude (dB)')\n",
    "        pres_ext.set_title('Pression externe au bec')\n",
    "\n",
    "        plt.tight_layout()\n",
    "        plt.show()\n",
    "    return spectrogram_int_db, spectrogram_ext_db\n",
    "\n",
    "plt.close('all')       \n",
    "spectrogram_int_db, spectrogram_ext_db = plot_spectro(5, n_fft)\n"
   ]
  },
  {
   "cell_type": "code",
   "execution_count": 27,
   "metadata": {},
   "outputs": [],
   "source": [
    "# Retourne le signal filtré autour de la fréquence fondamentale\n",
    "# Prend en entrée le signal et la largeur de la bande passante autour de la fréquence fondamentale\n",
    "def filtered_sig(signal, largeur_bande) : # prendre sr\n",
    "    freq_fonda = freq_fond(signal)\n",
    "    # print(freq_fonda)\n",
    "    \n",
    "    # Definition de l'ordre du filtre\n",
    "    ordre_filtre = 4  \n",
    "    \n",
    "    # Calcul des fréquences de coupure\n",
    "    freq_coup_inf = freq_fonda - largeur_bande / 2\n",
    "    freq_coup_sup = freq_fonda + largeur_bande / 2\n",
    "\n",
    "    # fréquences de coupure en fréquences normalisées\n",
    "    frequence_coupure_inf_norm = freq_coup_inf / (sr / 2)\n",
    "    frequence_coupure_sup_norm = freq_coup_sup / (sr / 2)\n",
    "\n",
    "    # Création du filtre passe-bande\n",
    "    b, a = butter(ordre_filtre, [frequence_coupure_inf_norm, frequence_coupure_sup_norm], btype='band')\n",
    "\n",
    "    # Filtrage du signal\n",
    "    signal_filtre = filtfilt(b, a, signal)\n",
    "    return signal_filtre\n"
   ]
  },
  {
   "cell_type": "markdown",
   "metadata": {},
   "source": [
    "### Enveloppe spectrale"
   ]
  },
  {
   "cell_type": "code",
   "execution_count": 1,
   "metadata": {},
   "outputs": [],
   "source": [
    "# Fonction pour calculer l'enveloppe spectrale par convolution avec fenêtre de Hann\n",
    "def spectral_envelope(signal, window_size): # prendre sr\n",
    "    # Calculer le nombre de segments\n",
    "    num_segments = len(signal) // window_size\n",
    "    \n",
    "    # Initialiser l'enveloppe spectrale\n",
    "    spectral_env = np.zeros_like(signal) \n",
    "    \n",
    "    # fenêtrage de Hann sur chaque segment et TF\n",
    "    for i in range(num_segments):\n",
    "        start_idx = i * window_size\n",
    "        end_idx = (i + 1) * window_size\n",
    "        segment = signal[start_idx:end_idx]\n",
    "        \n",
    "        # fenêtrage\n",
    "        segment *= sp.signal.windows.hann(window_size)\n",
    "        \n",
    "        # TF et amplitude\n",
    "        spectrum = np.fft.fft(segment)\n",
    "        amplitude = np.abs(spectrum)\n",
    "        \n",
    "        spectral_env[start_idx:end_idx] = amplitude\n",
    "    \n",
    "    # Lissage par convolution\n",
    "    spectral_env = np.convolve(spectral_env, np.ones(window_size) / window_size, mode='same')\n",
    "    \n",
    "    return spectral_env\n"
   ]
  },
  {
   "cell_type": "markdown",
   "metadata": {},
   "source": [
    "#### Seuillage"
   ]
  },
  {
   "cell_type": "code",
   "execution_count": 2,
   "metadata": {},
   "outputs": [],
   "source": [
    "# Détermination du seuil \n",
    "# On prend le seuillage sur 100ms \n",
    "def seuillage(signal):\n",
    "    longueur_selection = int(0.1*sr) \n",
    "    selection = signal[:longueur_selection]\n",
    "    maximum = np.max(selection)\n",
    "    moyenne = np.mean(selection)\n",
    "    e_type = np.std(selection)\n",
    "    seuil = moyenne + 2* e_type \n",
    "    # seuil = maximum + moyenne\n",
    "    return seuil"
   ]
  },
  {
   "cell_type": "code",
   "execution_count": 3,
   "metadata": {},
   "outputs": [
    {
     "ename": "NameError",
     "evalue": "name 'plt' is not defined",
     "output_type": "error",
     "traceback": [
      "\u001b[1;31m---------------------------------------------------------------------------\u001b[0m",
      "\u001b[1;31mNameError\u001b[0m                                 Traceback (most recent call last)",
      "Cell \u001b[1;32mIn[3], line 1\u001b[0m\n\u001b[1;32m----> 1\u001b[0m \u001b[43mplt\u001b[49m\u001b[38;5;241m.\u001b[39mclose(\u001b[38;5;124m'\u001b[39m\u001b[38;5;124mall\u001b[39m\u001b[38;5;124m'\u001b[39m)\n\u001b[0;32m      3\u001b[0m freq_bande \u001b[38;5;241m=\u001b[39m \u001b[38;5;241m100\u001b[39m    \u001b[38;5;66;03m# largeur de la bande frequentielle\u001b[39;00m\n\u001b[0;32m      5\u001b[0m \u001b[38;5;66;03m# Taille de la fenêtre de Hann\u001b[39;00m\n",
      "\u001b[1;31mNameError\u001b[0m: name 'plt' is not defined"
     ]
    }
   ],
   "source": [
    "plt.close('all')\n",
    "\n",
    "freq_bande = 100    # largeur de la bande frequentielle\n",
    "\n",
    "# Taille de la fenêtre de Hann\n",
    "window_size = n_fft\n",
    "# F_c = 20  # Fréquence de coupure (Hz)\n",
    "# window_size = int(sr / F_c)   # cf. 2017, Petiot\n",
    "\n",
    "for n in range(nombre_anches) : \n",
    "    signal = p_ints[n]\n",
    "    tps = temps[n]\n",
    "\n",
    "    seuil = seuillage(signal)\n",
    "    print(seuil)\n",
    "    \n",
    "    # SIGNAL FILTRE\n",
    "    signal_filtre = filtered_sig(signal, freq_bande)\n",
    "    # ENVELOPPE\n",
    "    spectral_env = spectral_envelope(signal_filtre, window_size)\n",
    "    # Normalisation de l'enveloppe\n",
    "    spectral_env_normalized = spectral_env / np.max(spectral_env)\n",
    "\n",
    "    # Afficher le signal et son enveloppe spectrale\n",
    "    plt.figure(figsize=(10, 6))\n",
    "    # plt.plot(tps, signal, label='Signal normalisé')           # signal brut\n",
    "    # plt.plot(tps, np.abs(signal), label='Signal normalisé')   # val absolue du signal\n",
    "    plt.plot(tps, signal_filtre, label='Signal normalisé')      # signal filtre autour de la ère freq fonda\n",
    "    plt.plot(tps, spectral_env_normalized, label='Enveloppe spectrale')\n",
    "    plt.hlines(seuil, tps[0], tps[-1], color='yellow' ,label=f'seuil {round(seuil,3)}')\n",
    "    plt.xlabel('Temps (s)')\n",
    "    plt.ylabel('Amplitude normalisée')\n",
    "    plt.title('Enveloppe spectrale par convolution avec fenêtre de Hann')\n",
    "    plt.legend()\n",
    "    plt.grid(True)\n",
    "    plt.show()"
   ]
  },
  {
   "cell_type": "code",
   "execution_count": 41,
   "metadata": {},
   "outputs": [],
   "source": [
    "plt.close('all')\n",
    "# tracer le signal initial et le signal filté\n",
    "plt.figure()\n",
    "plt.plot(tps, signal, label='Signal initial')\n",
    "plt.plot(tps, signal_filtre, label='Signal filtré')\n",
    "plt.xlabel('Temps')\n",
    "plt.ylabel('Amplitude')\n",
    "plt.title('Comparaison entre le signal initial et le signal filtré')\n",
    "plt.legend()\n",
    "plt.show()"
   ]
  },
  {
   "cell_type": "markdown",
   "metadata": {},
   "source": [
    "### Troncature signaux"
   ]
  },
  {
   "cell_type": "code",
   "execution_count": 101,
   "metadata": {},
   "outputs": [
    {
     "ename": "NameError",
     "evalue": "name 'read_data' is not defined",
     "output_type": "error",
     "traceback": [
      "\u001b[1;31m---------------------------------------------------------------------------\u001b[0m",
      "\u001b[1;31mNameError\u001b[0m                                 Traceback (most recent call last)",
      "Cell \u001b[1;32mIn[101], line 56\u001b[0m\n\u001b[0;32m     51\u001b[0m         e_cum \u001b[38;5;241m=\u001b[39m normalisation(e_cum)\n\u001b[0;32m     53\u001b[0m     \u001b[38;5;28;01mreturn\u001b[39;00m seuil, segments, sig_tronc, e_cum\n\u001b[1;32m---> 56\u001b[0m seuil, segments, sig_tronc, e_cum \u001b[38;5;241m=\u001b[39m \u001b[43mtroncature\u001b[49m\u001b[43m(\u001b[49m\u001b[38;5;241;43m5\u001b[39;49m\u001b[43m,\u001b[49m\u001b[43m \u001b[49m\u001b[43mn_fft\u001b[49m\u001b[43m)\u001b[49m\n\u001b[0;32m     57\u001b[0m \u001b[38;5;28mprint\u001b[39m(sig_tronc)\n\u001b[0;32m     59\u001b[0m plt\u001b[38;5;241m.\u001b[39mfigure(figsize\u001b[38;5;241m=\u001b[39m(\u001b[38;5;241m10\u001b[39m, \u001b[38;5;241m6\u001b[39m))\n",
      "Cell \u001b[1;32mIn[101], line 2\u001b[0m, in \u001b[0;36mtroncature\u001b[1;34m(nombre_anches, window_size)\u001b[0m\n\u001b[0;32m      1\u001b[0m \u001b[38;5;28;01mdef\u001b[39;00m \u001b[38;5;21mtroncature\u001b[39m(nombre_anches, window_size) : \n\u001b[1;32m----> 2\u001b[0m     temps, forces, p_ints, p_exts \u001b[38;5;241m=\u001b[39m \u001b[43mread_data\u001b[49m(nombre_anches)\n\u001b[0;32m      3\u001b[0m     sig_tronc \u001b[38;5;241m=\u001b[39m np\u001b[38;5;241m.\u001b[39mempty((\u001b[38;5;241m2\u001b[39m, \u001b[38;5;241m2\u001b[39m), dtype\u001b[38;5;241m=\u001b[39m\u001b[38;5;28mobject\u001b[39m)\n\u001b[0;32m      4\u001b[0m     \u001b[38;5;28;01mfor\u001b[39;00m n \u001b[38;5;129;01min\u001b[39;00m \u001b[38;5;28mrange\u001b[39m(nombre_anches) :\n",
      "\u001b[1;31mNameError\u001b[0m: name 'read_data' is not defined"
     ]
    }
   ],
   "source": [
    "def troncature(nombre_anches, window_size) : \n",
    "    temps, forces, p_ints, p_exts = read_data(nombre_anches)\n",
    "    sig_tronc = np.empty((2, 2), dtype=object)\n",
    "    for n in range(nombre_anches) :\n",
    "        segments = []\n",
    "        signal = p_ints[n]\n",
    "        tps = temps[n]\n",
    "        \n",
    "        # SIGNAL FILTRE\n",
    "        signal_filtre = filtered_sig(signal, freq_bande)\n",
    "        # ENVELOPPE\n",
    "        # spectral_env = spectral_envelope(signal, window_size)\n",
    "        spectral_env = spectral_envelope(signal_filtre, window_size)\n",
    "\n",
    "        # Normalisation de l'enveloppe\n",
    "        spectral_env_normalized = spectral_env / np.max(spectral_env)\n",
    "        \n",
    "        # Seuil \n",
    "        seuil = seuillage(signal)\n",
    "        seuil_depasse = False\n",
    "        for i, valeur in enumerate(spectral_env_normalized):\n",
    "            if not seuil_depasse and valeur > seuil:\n",
    "                seuil_depasse = True\n",
    "                segments.append(i)  # Ajouter le moment où le seuil est dépassé\n",
    "            elif seuil_depasse and valeur <= seuil:\n",
    "                seuil_depasse = False\n",
    "                segments.append(i)   \n",
    "\n",
    "        print(segments)\n",
    "        # Tronquer le signal autour des indices de détection de seuil\n",
    "        sig_tronc[0,0] = tps[segments[0] :segments[1]]\n",
    "        sig_tronc[0,1] = signal[segments[0] :segments[1]]\n",
    "        # Tronquer le signal autour des indices de détection de seuil\n",
    "        sig_tronc[1,0] = tps[segments[2] : segments[-1]]\n",
    "        sig_tronc[1,1] = signal[segments[2] :segments[-1]]\n",
    "        # Calculer la somme cumulée des énergies normalisées\n",
    "        e_cum = np.cumsum(spectral_env_normalized)\n",
    "\n",
    "        # passage de seuil\n",
    "        passage_seuil = []\n",
    "        \n",
    "        # Parcourir la somme cumulée des énergies\n",
    "        for i in range(1, len(e_cum)):\n",
    "            # Si la somme cumulée dépasse le seuil absolu\n",
    "            if e_cum[i] >= seuil and e_cum[i - 1] < seuil:\n",
    "                passage_seuil.append(i)  # Ajouter l'indice où la somme d'énergie cumulée passe au-dessus du seuil\n",
    "            # Si la somme cumulée passe en dessous du seuil absolu\n",
    "            elif e_cum[i] < seuil and e_cum[i - 1] >= seuil:\n",
    "                passage_seuil.append(i)\n",
    "\n",
    "        e_cum = normalisation(e_cum)\n",
    "\n",
    "    return seuil, segments, sig_tronc, e_cum\n",
    "\n",
    "\n",
    "seuil, segments, sig_tronc, e_cum = troncature(5, n_fft)\n",
    "print(sig_tronc)\n",
    "\n",
    "plt.figure(figsize=(10, 6))\n",
    "plt.plot(tps, signal_filtre, label='Signal filtré normalisé')\n",
    "plt.plot(tps, spectral_env_normalized, label='Enveloppe spectrale')\n",
    "plt.plot(tps, e_cum, label='somme cumulée des énergie')\n",
    "plt.grid(True)\n",
    "plt.xlabel('Temps (s)')\n",
    "plt.ylabel('Energie')\n",
    "plt.title('Energie cumulative')\n",
    "plt.legend()\n",
    "\n",
    "plt.figure(figsize=(10, 6))\n",
    "plt.plot(sig_tronc[0,0], sig_tronc[0,1], label='Signal normalisé')\n",
    "plt.grid(True)\n",
    "plt.xlabel('Temps (s)')\n",
    "plt.ylabel('Amplitude normalisée')\n",
    "plt.title('Signal tronqué - pression croissante')\n",
    "plt.legend()\n",
    "\n",
    "plt.figure(figsize=(10, 6))\n",
    "plt.plot(sig_tronc[1,0], sig_tronc[1,1], label='Signal normalisé')\n",
    "plt.grid(True)\n",
    "plt.xlabel('Temps (s)')\n",
    "plt.ylabel('Amplitude normalisée')\n",
    "plt.title('Signal tronqué - pression croissante')\n",
    "plt.legend()\n"
   ]
  },
  {
   "cell_type": "code",
   "execution_count": 79,
   "metadata": {},
   "outputs": [
    {
     "name": "stdout",
     "output_type": "stream",
     "text": [
      "[3278, 29489]\n",
      "[1817, 14537]\n"
     ]
    },
    {
     "name": "stderr",
     "output_type": "stream",
     "text": [
      "C:\\Users\\Admin\\AppData\\Local\\Temp\\ipykernel_20336\\175972585.py:5: DeprecationWarning: 'scipy.integrate.cumtrapz' is deprecated in favour of 'scipy.integrate.cumulative_trapezoid' and will be removed in SciPy 1.14.0\n",
      "  E_t = sp.integrate.cumtrapz(y=signal**2, x=temps, dx = 1/sr)    #Cumulatively integrate\n"
     ]
    }
   ],
   "source": [
    "plt.close('all')\n",
    "\n",
    "plot_fig = False\n",
    "def signal_statio(temps, signal) : \n",
    "    E_t = sp.integrate.cumtrapz(y=signal**2, x=temps, dx = 1/sr)    #Cumulatively integrate\n",
    "    \n",
    "    indices_statio = [np.argmax(E_t >= 0.05 * np.max(E_t)), np.argmax(E_t > 0.95 * np.max(E_t))-1 ]\n",
    "    # tps_statio = temps[indices_statio]\n",
    "    # E_t_statio = E_t[indices_statio]\n",
    "    print(indices_statio)\n",
    "    # print(tps_statio)\n",
    "    # print(E_t_statio)\n",
    "    return indices_statio\n",
    "\n",
    "# signals_troncs = [sig_tronc[0,1], sig_tronc[1,1]]\n",
    "# temps_troncs = [sig_tronc[0,0], sig_tronc[1,0]]\n",
    "labels = ['Début du signal staionnaire \\n$0.05*E(t)$', 'Fin du signal staionnaire \\n$0.95*E(t)$']\n",
    "color = ['orange', 'green']\n",
    "\n",
    "for i in range(2):\n",
    "    temps_part = sig_tronc[i,0]\n",
    "    sig_part = sig_tronc[i,1]\n",
    "    indices_statio = signal_statio(temps_part, sig_part)\n",
    "    \n",
    "    \n",
    "    if plot_fig : \n",
    "        plt.figure(figsize=(10, 6))\n",
    "        plt.plot(temps_part, sig_part, label='Energie cumulée') \n",
    "    for j in range (2): \n",
    "        x_j = temps_part[indices_statio[j]]\n",
    "        y_j = sig_part[indices_statio[j]]\n",
    "        if plot_fig : \n",
    "            plt.vlines(x_j, -1, 1, colors=color[j], label=labels[j])\n",
    "            # plt.hlines(y_j, temps_part[0], temps_part[-1], colors=color[j])\n",
    "            # plt.scatter(x_j, y_j, color=color[i])\n",
    "            plt.text(x_j, 0.85, f'({round(x_j,2)})', fontsize=10)\n",
    "            plt.grid(True)\n",
    "            plt.xlabel('Temps (s)')\n",
    "            plt.ylabel('Amplitude normalisée')\n",
    "            plt.title('Energie en fonction du temps $E(t) = \\int_{t_{deb}}^{t} p^{2}(\\\\tau) d\\\\tau$')\n",
    "            plt.legend()\n",
    " "
   ]
  },
  {
   "cell_type": "code",
   "execution_count": 64,
   "metadata": {},
   "outputs": [
    {
     "name": "stderr",
     "output_type": "stream",
     "text": [
      "C:\\Users\\Admin\\AppData\\Local\\Temp\\ipykernel_20336\\3282147327.py:5: DeprecationWarning: 'scipy.integrate.cumtrapz' is deprecated in favour of 'scipy.integrate.cumulative_trapezoid' and will be removed in SciPy 1.14.0\n",
      "  E_t = sp.integrate.cumtrapz(y=signal**2, x=temps, dx = 1/sr)    #Cumulatively integrate\n"
     ]
    },
    {
     "name": "stdout",
     "output_type": "stream",
     "text": [
      "<class 'numpy.float64'>\n",
      "<class 'numpy.float64'>\n",
      "<class 'numpy.float64'>\n",
      "<class 'numpy.float64'>\n"
     ]
    }
   ],
   "source": [
    "plt.close('all')\n",
    "\n",
    "signals_troncs = [sig_tronc[0,1], sig_tronc[1,1]]\n",
    "temps_troncs = [sig_tronc[0,0], sig_tronc[1,0]]\n",
    "pression = ['croissante', 'decroissante']\n",
    "   \n",
    "for i in range(2):\n",
    "    xi = temps_troncs[i]\n",
    "    yi = signals_troncs[i]\n",
    "    E_t, indices_statio, tps_statio, E_t_statio = signal_statio(xi, yi)\n",
    "    for j in range (2): \n",
    "        x = tps_statio[j]\n",
    "        y = E_t_statio[j]\n",
    "        print(type(y))\n",
    "        \n",
    "    plt.figure(figsize=(10, 6))\n",
    "    plt.title(f'Section transitoire pression seuil - pression {pression[i]}')\n",
    "    plt.plot(xi[0:indices_statio[0]], yi[0:indices_statio[0]], label='Section 1', color='red')\n",
    "    plt.figure(figsize=(10, 6))\n",
    "    plt.title(f'Section Stationnaire - pression {pression[i]}')\n",
    "    plt.plot(xi[indices_statio[0]:indices_statio[1]], yi[indices_statio[0]:indices_statio[1]], label='Section 2', color='green')\n",
    "    plt.figure(figsize=(10, 6))\n",
    "    plt.title(f'Section transitoire pression de plaquage - pression {pression[i]}')\n",
    "    plt.plot(xi[indices_statio[1]:-1], yi[indices_statio[1]:-1], label='Section 3', color='orange')\n",
    "\n",
    "    plt.grid(True)\n",
    "    plt.xlabel('Temps (s)')\n",
    "    plt.ylabel('Amplitude normalisée')\n",
    "    plt.legend()\n"
   ]
  },
  {
   "cell_type": "code",
   "execution_count": 6,
   "metadata": {},
   "outputs": [
    {
     "ename": "NameError",
     "evalue": "name 'sig_tronc' is not defined",
     "output_type": "error",
     "traceback": [
      "\u001b[1;31m---------------------------------------------------------------------------\u001b[0m",
      "\u001b[1;31mNameError\u001b[0m                                 Traceback (most recent call last)",
      "Cell \u001b[1;32mIn[6], line 4\u001b[0m\n\u001b[0;32m      1\u001b[0m \u001b[38;5;66;03m# descritpeurs section stationnaire \u001b[39;00m\n\u001b[0;32m      2\u001b[0m plt\u001b[38;5;241m.\u001b[39mclose(\u001b[38;5;124m'\u001b[39m\u001b[38;5;124mall\u001b[39m\u001b[38;5;124m'\u001b[39m)\n\u001b[1;32m----> 4\u001b[0m signals_troncs \u001b[38;5;241m=\u001b[39m [\u001b[43msig_tronc\u001b[49m[\u001b[38;5;241m0\u001b[39m,\u001b[38;5;241m1\u001b[39m], sig_tronc[\u001b[38;5;241m1\u001b[39m,\u001b[38;5;241m1\u001b[39m]]\n\u001b[0;32m      5\u001b[0m temps_troncs \u001b[38;5;241m=\u001b[39m [sig_tronc[\u001b[38;5;241m0\u001b[39m,\u001b[38;5;241m0\u001b[39m], sig_tronc[\u001b[38;5;241m1\u001b[39m,\u001b[38;5;241m0\u001b[39m]]\n\u001b[0;32m      6\u001b[0m pression \u001b[38;5;241m=\u001b[39m [\u001b[38;5;124m'\u001b[39m\u001b[38;5;124mcroissante\u001b[39m\u001b[38;5;124m'\u001b[39m, \u001b[38;5;124m'\u001b[39m\u001b[38;5;124mdecroissante\u001b[39m\u001b[38;5;124m'\u001b[39m]\n",
      "\u001b[1;31mNameError\u001b[0m: name 'sig_tronc' is not defined"
     ]
    }
   ],
   "source": [
    "# descritpeurs section stationnaire \n",
    "plt.close('all')\n",
    "\n",
    "signals_troncs = [sig_tronc[0,1], sig_tronc[1,1]]\n",
    "temps_troncs = [sig_tronc[0,0], sig_tronc[1,0]]\n",
    "pression = ['croissante', 'decroissante']\n",
    "   \n",
    "for i in range(2):\n",
    "    t_i = temps_troncs[i]\n",
    "    sig_i = signals_troncs[i]\n",
    "    E_t, indices_statio, tps_statio, E_t_statio = signal_statio(xi, yi)\n",
    "    for j in range (2): \n",
    "        x = tps_statio[j]\n",
    "        y = E_t_statio[j]\n",
    "        # print(type(y))\n",
    "    \n",
    "    t_sta = xi[indices_statio[0]:indices_statio[1]]\n",
    "    print(len(t_sta))\n",
    "    sig_sta = yi[indices_statio[0]:indices_statio[1]]\n",
    "    print(len(sig_sta))\n",
    "    plt.figure(figsize=(10, 6))\n",
    "    plt.title(f'Section Stationnaire - pression {pression[i]}')\n",
    "    plt.plot(t_sta, sig_sta, label='Section 2', color='green')\n",
    "\n",
    "    plt.grid(True)\n",
    "    plt.xlabel('Temps (s)')\n",
    "    plt.ylabel('Amplitude normalisée')\n",
    "    plt.legend()\n",
    "    \n",
    "    \n",
    "    CGS_int = librosa.feature.spectral_centroid(y=sig_sta, sr=sr, n_fft=n_fft).squeeze()\n",
    "    n=min(len(t_sta), len(CGS_int))\n",
    "    print(n)\n",
    "    print(CGS_int.shape)\n",
    "    plt.figure()\n",
    "    plt.title(f'Section Stationnaire - pression {pression[i]}')\n",
    "    plt.plot(t_sta[:n], CGS_int[:n], label='CGS')\n",
    "    plt.xlabel('Time')\n",
    "    plt.ylabel('CGS (Hz)')\n",
    "    plt.legend()"
   ]
  },
  {
   "cell_type": "markdown",
   "metadata": {},
   "source": [
    "#### En fait non"
   ]
  },
  {
   "cell_type": "code",
   "execution_count": 18,
   "metadata": {},
   "outputs": [
    {
     "name": "stdout",
     "output_type": "stream",
     "text": [
      "51\n",
      "52\n",
      "52\n",
      "24\n",
      "25\n",
      "25\n"
     ]
    },
    {
     "name": "stderr",
     "output_type": "stream",
     "text": [
      "C:\\Users\\Admin\\AppData\\Local\\Temp\\ipykernel_20336\\3285776097.py:5: DeprecationWarning: 'scipy.integrate.cumtrapz' is deprecated in favour of 'scipy.integrate.cumulative_trapezoid' and will be removed in SciPy 1.14.0\n",
      "  E_t = sp.integrate.cumtrapz(y=signal**2, x=temps, dx = 1/sr)\n"
     ]
    },
    {
     "data": {
      "text/plain": [
       "<matplotlib.legend.Legend at 0x2b426d64b50>"
      ]
     },
     "execution_count": 18,
     "metadata": {},
     "output_type": "execute_result"
    }
   ],
   "source": [
    "# ETUDES SUR PARTIE STATIONNAIRE\n",
    "plt.close('all')\n",
    "\n",
    "sign_statio = []\n",
    "temps_statio = []\n",
    "CGSs = []\n",
    "\n",
    "for i in range(2):\n",
    "    plt.figure()\n",
    "    x = temps_troncs[i]\n",
    "    y = signals_troncs[i]\n",
    "    _, indices_statio, _, _ = signal_statio(x, y)\n",
    "    x = x[indices_statio[0]:indices_statio[1]]\n",
    "    # temps_statio.append(x)\n",
    "    y = y[indices_statio[0]:indices_statio[1]]\n",
    "    # sign_statio.append(y)\n",
    "    CGS = librosa.feature.spectral_centroid(y=y, sr=sr, n_fft=n_fft).squeeze()\n",
    "    t_max = len(y)//sr\n",
    "    N = len(y)//n_fft\n",
    "    print(N)\n",
    "    t = np.linspace(0, t_max, N+1)\n",
    "    print(len(t))\n",
    "    print(len(CGS))\n",
    "\n",
    "    plt.plot(t, CGS, label='ext')\n",
    "    \n",
    "plt.xlabel('Time')\n",
    "plt.ylabel('CGS (Hz)')\n",
    "plt.legend()"
   ]
  },
  {
   "cell_type": "code",
   "execution_count": 19,
   "metadata": {},
   "outputs": [
    {
     "ename": "NameError",
     "evalue": "name 'spectrogram_int' is not defined",
     "output_type": "error",
     "traceback": [
      "\u001b[1;31m---------------------------------------------------------------------------\u001b[0m",
      "\u001b[1;31mNameError\u001b[0m                                 Traceback (most recent call last)",
      "Cell \u001b[1;32mIn[19], line 6\u001b[0m\n\u001b[0;32m      1\u001b[0m plt\u001b[38;5;241m.\u001b[39mclose(\u001b[38;5;124m'\u001b[39m\u001b[38;5;124mall\u001b[39m\u001b[38;5;124m'\u001b[39m)\n\u001b[0;32m      3\u001b[0m \u001b[38;5;66;03m# y = p_ext\u001b[39;00m\n\u001b[0;32m      4\u001b[0m \u001b[38;5;66;03m# S, phase = librosa.magphase(librosa.stft(y)) # S=p_int\u001b[39;00m\n\u001b[1;32m----> 6\u001b[0m rms \u001b[38;5;241m=\u001b[39m librosa\u001b[38;5;241m.\u001b[39mfeature\u001b[38;5;241m.\u001b[39mrms(S\u001b[38;5;241m=\u001b[39m\u001b[43mspectrogram_int\u001b[49m, frame_length \u001b[38;5;241m=\u001b[39m n_fft)\u001b[38;5;241m.\u001b[39msqueeze() \u001b[38;5;66;03m# A mettre en dB \u001b[39;00m\n\u001b[0;32m      7\u001b[0m \u001b[38;5;28mprint\u001b[39m(rms\u001b[38;5;241m.\u001b[39mshape)\n\u001b[0;32m      8\u001b[0m rms_diff \u001b[38;5;241m=\u001b[39m np\u001b[38;5;241m.\u001b[39mdiff(rms, \u001b[38;5;241m1\u001b[39m)\n",
      "\u001b[1;31mNameError\u001b[0m: name 'spectrogram_int' is not defined"
     ]
    }
   ],
   "source": [
    "plt.close('all')\n",
    "\n",
    "# y = p_ext\n",
    "# S, phase = librosa.magphase(librosa.stft(y)) # S=p_int\n",
    "\n",
    "rms = librosa.feature.rms(S=spectrogram_int, frame_length = n_fft).squeeze() # A mettre en dB \n",
    "print(rms.shape)\n",
    "rms_diff = np.diff(rms, 1)\n",
    "max_diff = np.abs(np.max(rms_diff))\n",
    "ind = np.where(rms_diff>0.5*max_diff)[0]\n",
    "print(ind*hop_length/sr)\n",
    "seuil_0_diff = 0.00005\n",
    "ind2 = np.where(np.abs(rms_diff)<seuil_0_diff)[0]\n",
    "print(ind2*hop_length/sr)\n",
    "\n",
    "plt.figure()\n",
    "\n",
    "times = librosa.times_like(rms)\n",
    "plt.plot(times, rms, label='RMS Energy')\n",
    "times = librosa.times_like(rms_diff)\n",
    "plt.plot(times, rms_diff, label='RMS Energy')\n",
    "plt.legend()\n",
    "\n",
    "# librosa.display.specshow(spectrogram_int_db, y_axis='linear', x_axis='time', ax=ax[1])\n",
    "\n",
    "# ax[2].plot(tps, A[:,3], label='micro bec')"
   ]
  },
  {
   "cell_type": "code",
   "execution_count": null,
   "metadata": {},
   "outputs": [
    {
     "name": "stdout",
     "output_type": "stream",
     "text": [
      "(648,)\n",
      "[2.0224 4.608  4.6208 4.6336 4.6464]\n",
      "[0.256  0.4736 0.5632 0.6144 0.7168 0.7936 0.8576 0.9472 1.024  1.088\n",
      " 1.1264 1.1904 1.2288 1.2416 1.3056 2.944  3.8528 4.224  4.2752 4.352\n",
      " 4.5184 6.3872 6.5792 6.6816 6.912  6.9504 7.04   7.0528 7.1168 7.2064\n",
      " 7.3216 7.3344 7.4496 7.4752 7.5136 7.6032 7.7184 7.7312 7.808  7.8336\n",
      " 7.8592 7.872  7.8976 7.9232 7.9488 7.9872 8.     8.0256 8.0512 8.064\n",
      " 8.0896 8.1536 8.1664 8.1792 8.2176 8.256  8.2688]\n"
     ]
    },
    {
     "data": {
      "text/plain": [
       "[Text(0.5, 1.0, 'log Power spectrogram')]"
      ]
     },
     "execution_count": 67,
     "metadata": {},
     "output_type": "execute_result"
    }
   ],
   "source": [
    "plt.close('all')\n",
    "\n",
    "# y = p_ext\n",
    "# S, phase = librosa.magphase(librosa.stft(y)) # S=p_int\n",
    "\n",
    "rms = librosa.feature.rms(S=spectrogram_int, frame_length = n_fft).squeeze() # A mettre en dB \n",
    "print(rms.shape)\n",
    "rms_diff = np.diff(rms, 1)\n",
    "max_diff = np.abs(np.max(rms_diff))\n",
    "ind = np.where(rms_diff>0.5*max_diff)[0]\n",
    "print(ind*hop_length/sr)\n",
    "seuil_0_diff = 0.00005\n",
    "ind2 = np.where(np.abs(rms_diff)<seuil_0_diff)[0]\n",
    "print(ind2*hop_length/sr)\n",
    "\n",
    "fig, ax = plt.subplots(nrows=2, sharex=True)\n",
    "\n",
    "times = librosa.times_like(rms)\n",
    "ax[0].plot(times, rms, label='RMS Energy')\n",
    "times = librosa.times_like(rms_diff)\n",
    "ax[0].plot(times, rms_diff, label='RMS Energy')\n",
    "ax[0].set(xticks=[])\n",
    "ax[0].legend()\n",
    "ax[0].label_outer()\n",
    "\n",
    "librosa.display.specshow(spectrogram_int_db, y_axis='linear', x_axis='time', ax=ax[1])\n",
    "ax[1].set(title='log Power spectrogram')\n",
    "\n",
    "# ax[2].plot(tps, A[:,3], label='micro bec')"
   ]
  },
  {
   "cell_type": "code",
   "execution_count": 81,
   "metadata": {},
   "outputs": [
    {
     "name": "stdout",
     "output_type": "stream",
     "text": [
      "90111\n"
     ]
    },
    {
     "ename": "NameError",
     "evalue": "name 'p_int' is not defined",
     "output_type": "error",
     "traceback": [
      "\u001b[1;31m---------------------------------------------------------------------------\u001b[0m",
      "\u001b[1;31mNameError\u001b[0m                                 Traceback (most recent call last)",
      "Cell \u001b[1;32mIn[81], line 9\u001b[0m\n\u001b[0;32m      6\u001b[0m \u001b[38;5;28mprint\u001b[39m(\u001b[38;5;28mlen\u001b[39m(tps))\n\u001b[0;32m      7\u001b[0m \u001b[38;5;66;03m# t = librosa.time_to_frames(tps, sr=sr, hop_length=n_fft//4)\u001b[39;00m\n\u001b[0;32m      8\u001b[0m \u001b[38;5;66;03m# print(t.shape)\u001b[39;00m\n\u001b[1;32m----> 9\u001b[0m t_max \u001b[38;5;241m=\u001b[39m \u001b[38;5;28mlen\u001b[39m(\u001b[43mp_int\u001b[49m)\u001b[38;5;241m/\u001b[39m\u001b[38;5;241m/\u001b[39msr\n\u001b[0;32m     10\u001b[0m N \u001b[38;5;241m=\u001b[39m \u001b[38;5;28mlen\u001b[39m(p_int)\u001b[38;5;241m/\u001b[39m\u001b[38;5;241m/\u001b[39mn_fft\n\u001b[0;32m     11\u001b[0m \u001b[38;5;28mprint\u001b[39m(N)\n",
      "\u001b[1;31mNameError\u001b[0m: name 'p_int' is not defined"
     ]
    }
   ],
   "source": [
    "plt.close('all')\n",
    "plt.figure()\n",
    "\n",
    "# on peut aussi demander à librosa de traduire notre temps (tps) en frame directement\n",
    "# times = librosa.times_like(CGS_int)\n",
    "print(len(tps))\n",
    "# t = librosa.time_to_frames(tps, sr=sr, hop_length=n_fft//4)\n",
    "# print(t.shape)\n",
    "t_max = len(p_int)//sr\n",
    "N = len(p_int)//n_fft\n",
    "print(N)\n",
    "t = np.linspace(0, t_max, N)\n",
    "\n",
    "\n",
    "\n",
    "CGS_int = librosa.feature.spectral_centroid(y=p_int, sr=sr, n_fft=n_fft).squeeze()\n",
    "# CGS_ext = librosa.feature.spectral_centroid(y=p_ext, sr=sr, n_fft=n_fft).squeeze()\n",
    "n=min(len(t), len(CGS_int))\n",
    "print(n)\n",
    "\n",
    "print(CGS_int.shape)\n",
    "plt.plot(t[:n], CGS_int[:n], label='int')\n",
    "# plt.plot(t[:n], CGS_ext[:n], label='ext')\n",
    "plt.xlabel('Time')\n",
    "plt.ylabel('CGS (Hz)')\n",
    "plt.legend()\n",
    "# reg = LinearRegression()\n",
    "# reg.fit(force,CGS)\n",
    "# reg.score(X,CGS)"
   ]
  },
  {
   "cell_type": "code",
   "execution_count": null,
   "metadata": {},
   "outputs": [
    {
     "name": "stderr",
     "output_type": "stream",
     "text": [
      "c:\\Users\\Admin\\AppData\\Local\\Programs\\Python\\Python310\\lib\\site-packages\\matplotlib\\cbook.py:1699: ComplexWarning: Casting complex values to real discards the imaginary part\n",
      "  return math.isfinite(val)\n",
      "c:\\Users\\Admin\\AppData\\Local\\Programs\\Python\\Python310\\lib\\site-packages\\matplotlib\\cbook.py:1345: ComplexWarning: Casting complex values to real discards the imaginary part\n",
      "  return np.asarray(x, float)\n"
     ]
    }
   ],
   "source": [
    "\n",
    "plt.close('all')\n",
    "fig, axs = plt.subplots(3, 2, figsize=(12, 7))\n",
    "\n",
    "# FFT\n",
    "fft_int = np.fft.fft(p_int)\n",
    "fft_freq_int = np.fft.fftfreq(p_int.shape[-1])\n",
    "axs[0, 0].plot(fft_freq_int, fft_int)\n",
    "axs[0, 0].set_xlabel('Frequence (Hz)')\n",
    "axs[0, 0].set_ylabel('Amplitude (mV)')\n",
    "axs[0, 0].set_title('Intérieur Bec \\n FFT')\n",
    "axs[0, 0].set_xlim([0, 0.4])\n",
    "axs[0, 0].set_ylim([0, None])\n",
    "\n",
    "fft_ext = np.fft.fft(p_ext)\n",
    "fft_freq_ext = np.fft.fftfreq(p_ext.shape[-1])\n",
    "axs[0, 1].plot(fft_freq_ext, fft_ext)\n",
    "axs[0, 1].set_xlabel('Frequence (Hz)')\n",
    "axs[0, 1].set_ylabel('Amplitude (mV)')\n",
    "axs[0, 1].set_title('Extérieur Bec \\n FFT')\n",
    "axs[0, 1].set_xlim([0, 0.4])\n",
    "axs[0, 1].set_ylim([0, None])\n",
    "\n",
    "# SIGNAUX TEMPORELS\n",
    "axs[1, 0].plot(tps, p_int, label='micro ext')\n",
    "S, phase = librosa.magphase(librosa.stft(p_int))\n",
    "rms = librosa.feature.rms(S=S)\n",
    "times = librosa.times_like(rms)\n",
    "# axs[1, 0].plot(times, rms[0], label='RMS Energy')\n",
    "axs[1, 0].set_title('Signal temporel')\n",
    "axs[1, 0].set_xlabel('Temps (s)')\n",
    "axs[1, 0].set_ylabel('Amplitude (mV)')\n",
    "\n",
    "axs[1, 1].plot(tps, p_ext, label='micro int')\n",
    "axs[1, 1].set_title('Signal temporel')\n",
    "axs[1, 1].set_xlabel('Temps (s)')\n",
    "axs[1, 1].set_ylabel('Amplitude (mV)')\n",
    "\n",
    "\n",
    "# SPRECTRO\n",
    "spectrogram_int = librosa.feature.melspectrogram(y=p_int)\n",
    "spectrogram_ext = librosa.feature.melspectrogram(y=p_ext)\n",
    "\n",
    "# Convertir l'échelle en décibels (dB)\n",
    "spectrogram_int_db = librosa.power_to_db(spectrogram_int, ref=np.max)\n",
    "spectrogram_ext_db = librosa.power_to_db(spectrogram_ext, ref=np.max)\n",
    "\n",
    "img_int = librosa.display.specshow(spectrogram_int_db, ax=axs[2, 0])\n",
    "# p_int.set_colorbar(format='%+2.0f dB')\n",
    "# cbar = fig.colorbar(img_int, ax=axs[2,0], format='%+2.0f dB')\n",
    "# cbar.set_label('Amplitude (dB)')\n",
    "axs[2, 0].set_title('Pression interne au bec')\n",
    "axs[2, 0].set_xlabel('Temps (s)')\n",
    "axs[2, 0].set_ylabel('Frequence (Hz)')\n",
    "\n",
    "img_ext = librosa.display.specshow(spectrogram_ext_db, x_axis='time', y_axis='mel', ax=axs[2, 1])\n",
    "# cbar = fig.colorbar(img_ext, ax=axs[2, 1], format='%+2.0f dB')\n",
    "cbar.set_label('Amplitude (dB)')\n",
    "axs[2, 1].set_title('Pression externe au bec')\n",
    "axs[2, 1].set_xlabel('Temps (s)')\n",
    "axs[2, 1].set_ylabel('Frequence (Hz)')\n",
    "\n",
    "# CGS_int = librosa.feature.spectral_centroid(y=p_int)\n",
    "# CGS_ext = librosa.feature.spectral_centroid(y=p_ext)\n",
    "# axs[3,0].plot(CGS_int.squeeze())\n",
    "# axs[3,1].plot(CGS_ext.squeeze())\n",
    "\n",
    "# fig.suptitle('Spectrogrammes', fontsize=20)\n",
    "plt.tight_layout()\n",
    "plt.show()"
   ]
  },
  {
   "cell_type": "code",
   "execution_count": null,
   "metadata": {},
   "outputs": [
    {
     "name": "stdout",
     "output_type": "stream",
     "text": [
      "Énergie du signal: (1, 194)\n",
      "MFCC: (13, 194)\n",
      "Chroma: (12, 194)\n",
      "Zero-Crossing Rate: (1, 194)\n",
      "Spectral Centroid: (1, 194)\n",
      "Spectral Contrast: (7, 194)\n",
      "Spectral Rolloff: (1, 194)\n",
      "MFCC Delta: (13, 194)\n",
      "MFCC Delta-Delta: (13, 194)\n",
      "Centres de bande de fréquences: (1, 194)\n"
     ]
    }
   ],
   "source": [
    "\n",
    "# Charger le fichier audio\n",
    "signal = p_ext\n",
    "# sr = None\n",
    "\n",
    "# Extraire les descripteurs audio\n",
    "energie = librosa.feature.rms(y=signal)\n",
    "mfcc = librosa.feature.mfcc(y=signal, n_mfcc=13)\n",
    "chroma = librosa.feature.chroma_stft(y=signal)\n",
    "zero_crossing_rate = librosa.feature.zero_crossing_rate(y=signal)\n",
    "spectral_centroid = librosa.feature.spectral_centroid(y=signal)\n",
    "spectral_contrast = librosa.feature.spectral_contrast(y=signal)\n",
    "spectral_rolloff = librosa.feature.spectral_rolloff(y=signal)\n",
    "mfcc_delta = librosa.feature.delta(mfcc)\n",
    "mfcc_delta_delta = librosa.feature.delta(mfcc, order=2)\n",
    "centres_bandes = librosa.feature.spectral_centroid(y=signal, n_fft=2048, hop_length=512)\n",
    "\n",
    "# Afficher les dimensions de chaque descripteur\n",
    "# print(\"Énergie du signal:\", energie.shape)\n",
    "print(\"MFCC:\", mfcc.shape)\n",
    "# print(\"Chroma:\", chroma.shape)\n",
    "print(\"Zero-Crossing Rate:\", zero_crossing_rate.shape)\n",
    "print(\"Spectral Centroid:\", spectral_centroid.shape)\n",
    "print(\"Spectral Contrast:\", spectral_contrast.shape)\n",
    "print(\"Spectral Rolloff:\", spectral_rolloff.shape)\n",
    "print(\"MFCC Delta:\", mfcc_delta.shape)\n",
    "print(\"MFCC Delta-Delta:\", mfcc_delta_delta.shape)\n",
    "print(\"Centres de bande de fréquences:\", centres_bandes.shape)\n",
    "\n"
   ]
  }
 ],
 "metadata": {
  "kernelspec": {
   "display_name": "Python 3",
   "language": "python",
   "name": "python3"
  },
  "language_info": {
   "codemirror_mode": {
    "name": "ipython",
    "version": 3
   },
   "file_extension": ".py",
   "mimetype": "text/x-python",
   "name": "python",
   "nbconvert_exporter": "python",
   "pygments_lexer": "ipython3",
   "version": "3.10.8"
  }
 },
 "nbformat": 4,
 "nbformat_minor": 2
}
