{
 "cells": [
  {
   "cell_type": "markdown",
   "metadata": {},
   "source": [
    "# MAD Dynamique <br>\n",
    "### STAGE ANCHES <br>\n",
    "Camille Urban <br>\n",
    "22/03/2024"
   ]
  },
  {
   "cell_type": "code",
   "execution_count": 1,
   "metadata": {},
   "outputs": [],
   "source": [
    "# classic shit\n",
    "import numpy as np\n",
    "import matplotlib.pyplot as plt\n",
    "import pandas as pd\n",
    "import scipy as sp\n",
    "from scipy.signal import butter, filtfilt\n",
    "\n",
    "#librosa\n",
    "import librosa\n",
    "import librosa.display\n",
    "\n",
    "# traitement image\n",
    "from skimage.io import imread\n",
    "from skimage.transform import rotate\n",
    "# from im_rotate import im_rotate\n",
    "import os\n",
    "\n",
    "import sounddevice as sd\n",
    "from scipy.io.wavfile import write"
   ]
  },
  {
   "cell_type": "code",
   "execution_count": 2,
   "metadata": {},
   "outputs": [
    {
     "name": "stdout",
     "output_type": "stream",
     "text": [
      "Using matplotlib backend: <object object at 0x000002BDDB20A360>\n",
      "Using matplotlib backend: TkAgg\n"
     ]
    }
   ],
   "source": [
    "%matplotlib\n",
    "%matplotlib"
   ]
  },
  {
   "cell_type": "markdown",
   "metadata": {},
   "source": [
    "## Paramètres du Banc"
   ]
  },
  {
   "cell_type": "code",
   "execution_count": 3,
   "metadata": {},
   "outputs": [],
   "source": [
    "# SENSIBILITE CAPTEURS\n",
    "S_mic_int =  0.0841  # Sensibilité du capteur de pression interne (mV/Pa)\n",
    "Offset_mic_int = 51.2   # (mV) \n",
    "# G_micro_int = 10 V\n",
    "S_force = 39.2 # mV/N\n",
    "# Offset_force = \n",
    "# G_force = 10 V\n",
    "# étalonnage de micro exterieur par source étalon 1kHz à 97dB\n",
    "\n",
    "# FRQ ECHANTILLONNAGE\n",
    "sr = 10000 \n",
    "n_fft = 512 # env. 50ms\n",
    "# hop_length = n_fft / 4  # = 12.5ms (pas de décalage de la fenêtre)\n",
    "hop_length = n_fft / 4\n",
    "p_ref = 2e-5\n",
    "\n",
    "largeur_bande = 100\n"
   ]
  },
  {
   "cell_type": "code",
   "execution_count": 4,
   "metadata": {},
   "outputs": [],
   "source": [
    "dossier = 'mes_2024.04.19/'\n",
    "nom_fichier = 'anche'\n",
    "na = 1\n",
    "data = pd.read_table(dossier + nom_fichier + f'{na}',  sep='\\t', header=2).values\n",
    "tps = data[:,0]\n",
    "force = data[:,1]/S_force\n",
    "p_int = (data[:,2])/S_mic_int\n",
    "# print(type(p_int))\n",
    "p_ext = data[:,3]\n",
    "# vib = data[:,4]\n",
    "\n",
    "\n",
    "nombre_anches = 5\n"
   ]
  },
  {
   "cell_type": "markdown",
   "metadata": {},
   "source": [
    "# Traitement données"
   ]
  },
  {
   "cell_type": "markdown",
   "metadata": {},
   "source": [
    "### Normalisation"
   ]
  },
  {
   "cell_type": "code",
   "execution_count": 5,
   "metadata": {},
   "outputs": [],
   "source": [
    "# NORMALISATION\n",
    " \n",
    "def normalisation(signal):\n",
    "    # normalized_signal = signal / np.mean(signal)\n",
    "    normalized_signal = signal / np.max(signal)\n",
    "    return normalized_signal\n",
    "\n",
    "\n",
    "plot_fig = False\n",
    "plt.close('all')\n",
    "signal = p_int\n",
    "if plot_fig :\n",
    "    plt.figure()\n",
    "    plt.plot(tps, signal, label='Signal initial')\n",
    "    plt.plot(tps, normalisation(signal), label='Signal normalisé')\n",
    "    plt.xlabel('Temps (s)')\n",
    "    plt.ylabel('Amplitude')\n",
    "    # plt.title('')\n",
    "    plt.legend()\n",
    "    plt.show()\n"
   ]
  },
  {
   "cell_type": "code",
   "execution_count": 6,
   "metadata": {},
   "outputs": [],
   "source": [
    "# ecoute et enregistrement des signaux en pression \n",
    "play_pression_bec = True\n",
    "play_pression_ext  = True\n",
    "\n",
    "for na in range (nombre_anches):\n",
    "    if play_pression_bec:\n",
    "        p_i = normalisation(p_int)\n",
    "        audio_signal = np.int16(p_i * 32767)\n",
    "        # sd.play(audio_signal, sr)\n",
    "        output_wav = dossier + f'pression_bec_anche{na}.wav'\n",
    "        write(output_wav, sr, audio_signal)\n",
    "        \n",
    "    if play_pression_ext:\n",
    "        p_e = normalisation(p_ext)\n",
    "        audio_signal = np.int16(p_e * 32767)\n",
    "        # sd.play(audio_signal, sr)\n",
    "        output_wav = dossier + f'pression_ext_anche{na}.wav'\n",
    "        write(output_wav, sr, audio_signal)"
   ]
  },
  {
   "cell_type": "markdown",
   "metadata": {},
   "source": [
    "### Fréquence fondamentale "
   ]
  },
  {
   "cell_type": "code",
   "execution_count": 7,
   "metadata": {},
   "outputs": [],
   "source": [
    "def freq_fond(signal, sr) :  \n",
    "    TF = np.fft.fft(signal)\n",
    "    freqs = np.fft.fftfreq(len(signal), d=1/sr)         # valeurs des frequences du spectre \n",
    "    indice_fonda = np.argmax(np.abs(TF[1:])) + 1        # indice de la frequence fondamentale (+1 pour éviter l'offset en 0)\n",
    "    freq_fonda = np.abs(freqs[indice_fonda])            # fréquence fondamentale\n",
    "    # print(\"Fréquence fondamentale :\", freq_fonda)\n",
    "    return freq_fonda\n"
   ]
  },
  {
   "cell_type": "markdown",
   "metadata": {},
   "source": [
    "### Filtrer le signale fréquentiellement autour de la fondamentale"
   ]
  },
  {
   "cell_type": "code",
   "execution_count": 8,
   "metadata": {},
   "outputs": [],
   "source": [
    "# Retourne le signal filtré autour de la fréquence fondamentale\n",
    "# Prend en entrée le signal et la largeur de la bande passante autour de la fréquence fondamentale\n",
    "# largeur de la bande frequentielle - freq_bande = 100   \n",
    "def filtered_sig(signal, sr, largeur_bande):\n",
    "    freq_fonda = freq_fond(signal, sr)\n",
    "    \n",
    "    # Definition de l'ordre du filtre\n",
    "    ordre_filtre = 4  \n",
    "    \n",
    "    # Calcul des fréquences de coupure\n",
    "    freq_coup_inf = freq_fonda - largeur_bande / 2\n",
    "    freq_coup_sup = freq_fonda + largeur_bande / 2\n",
    "\n",
    "    # fréquences de coupure en fréquences normalisées\n",
    "    frequence_coupure_inf_norm = freq_coup_inf / (sr / 2)\n",
    "    frequence_coupure_sup_norm = freq_coup_sup / (sr / 2)\n",
    "\n",
    "    # Création du filtre passe-bande\n",
    "    b, a = butter(ordre_filtre, [frequence_coupure_inf_norm, frequence_coupure_sup_norm], btype='band')\n",
    "\n",
    "    # Filtrage du signal\n",
    "    signal_filtre = filtfilt(b, a, signal)\n",
    "    return signal_filtre\n",
    "\n",
    "\n",
    "plot_fig = False\n",
    "plt.close('all')\n",
    "signal = p_int\n",
    "if plot_fig :\n",
    "    plt.figure()\n",
    "    plt.plot(tps, normalisation(signal), label='Signal normalisé')\n",
    "    plt.plot(tps, filtered_sig(normalisation(signal), sr=sr, largeur_bande=largeur_bande), label='Signal normalisé filtré')\n",
    "    plt.xlabel('Temps (s)')\n",
    "    plt.ylabel('Amplitude normalisée')\n",
    "    plt.title('Comparaison entre le signal initial et le signal filtré')\n",
    "    plt.legend()\n",
    "    plt.show()"
   ]
  },
  {
   "cell_type": "markdown",
   "metadata": {},
   "source": [
    "### Enveloppe Spectrale"
   ]
  },
  {
   "cell_type": "code",
   "execution_count": 9,
   "metadata": {},
   "outputs": [],
   "source": [
    "# Fonction pour calculer l'enveloppe spectrale par convolution avec fenêtre de Hann\n",
    "def spectral_envelope(signal, window_size): \n",
    "    # Calculer le nombre de segments\n",
    "    num_segments = len(signal) // window_size\n",
    "    \n",
    "    # Initialiser l'enveloppe spectrale\n",
    "    spectral_env = np.zeros(len(signal))\n",
    "    \n",
    "    # fenêtrage de Hann sur chaque segment et TF\n",
    "    for i in range(num_segments):\n",
    "        start_idx = i * window_size\n",
    "        end_idx = (i + 1) * window_size\n",
    "        segment = signal[start_idx:end_idx]\n",
    "        \n",
    "        # fenêtrage\n",
    "        segment *= sp.signal.windows.hann(window_size)\n",
    "        \n",
    "        # TF et amplitude\n",
    "        spectrum = np.fft.fft(segment)\n",
    "        amplitude = np.abs(spectrum)\n",
    "        \n",
    "        spectral_env[start_idx:end_idx] = amplitude\n",
    "    \n",
    "    # Lissage par convolution\n",
    "    spectral_env = np.convolve(spectral_env, np.ones(window_size) / window_size, mode='same')\n",
    "    \n",
    "    return spectral_env\n",
    "\n",
    "plot_fig = False\n",
    "plt.close('all')\n",
    "signal = p_int\n",
    "if plot_fig :\n",
    "    plt.figure()\n",
    "    plt.plot(tps, filtered_sig(normalisation(signal), sr=sr, largeur_bande=largeur_bande), label='Signal normalisé filtré')\n",
    "    plt.plot(tps, spectral_envelope(filtered_sig(normalisation(signal), sr=sr, largeur_bande=largeur_bande), window_size=n_fft), label='Enveloppe spectrale')\n",
    "    plt.xlabel('Temps (s)')\n",
    "    plt.ylabel('Amplitude normalisée')\n",
    "    plt.title('Enveloppe spectrale du signal filtré autour de la fréquence fondamentale')\n",
    "    plt.legend()\n",
    "    plt.show()"
   ]
  },
  {
   "cell_type": "markdown",
   "metadata": {},
   "source": [
    "### Seuillage"
   ]
  },
  {
   "cell_type": "code",
   "execution_count": 10,
   "metadata": {},
   "outputs": [],
   "source": [
    "# Détermination du seuil de détéction paour chaque l'enveloppe spectrale du signal normalisé et filtré autour de f_0\n",
    "# On prend le seuillage sur 100ms \n",
    "\n",
    "def seuillage(signal, sr, largeur_bande, window_size, facteur_std):\n",
    "    \n",
    "    print_seuil = False\n",
    "    \n",
    "    signal = normalisation(signal)\n",
    "    signal = filtered_sig(signal, sr, largeur_bande)\n",
    "    signal = spectral_envelope(signal, window_size)\n",
    "    \n",
    "    longueur_selection = int(0.1*sr) \n",
    "    selection = signal[:longueur_selection]\n",
    "    e_type = np.std(selection)\n",
    "    seuil = facteur_std*e_type  # seuil = 2*3 idéalement\n",
    "    if print_seuil:\n",
    "        print(seuil)\n",
    "    return seuil\n",
    "\n",
    "        "
   ]
  },
  {
   "cell_type": "markdown",
   "metadata": {},
   "source": [
    "### Troncatures"
   ]
  },
  {
   "cell_type": "code",
   "execution_count": 11,
   "metadata": {},
   "outputs": [],
   "source": [
    "def troncature(signal, sr, largeur_bande, window_size, facteur_std) : \n",
    "    signal = normalisation(signal)\n",
    "    # Signal filtré\n",
    "    signal_filtre = filtered_sig(signal, sr, largeur_bande)\n",
    "    # Enveloppe spectrale\n",
    "    env_spec = spectral_envelope(signal_filtre, window_size)\n",
    "    # Normalisation de l'enveloppe\n",
    "    env_spec = spectral_envelope(signal_filtre, window_size) / np.max(spectral_envelope(signal_filtre, window_size))\n",
    "\n",
    "    e_cum = np.cumsum(env_spec)\n",
    "    e_cum = normalisation(e_cum) \n",
    "    \n",
    "    # Seuil \n",
    "    seuil = seuillage(signal, sr, largeur_bande, window_size, facteur_std)\n",
    "    \n",
    "    idx_tr =[]\n",
    "    seuil_depasse = False\n",
    "    for i, valeur in enumerate(env_spec):\n",
    "        if not seuil_depasse and valeur > seuil:\n",
    "            seuil_depasse = True\n",
    "            idx_tr.append(i)  # Ajouter le moment où le seuil est dépassé\n",
    "        elif seuil_depasse and valeur <= seuil:\n",
    "            seuil_depasse = False\n",
    "            idx_tr.append(i) \n",
    "    \n",
    "    print(idx_tr)  \n",
    "    return idx_tr, e_cum\n",
    "   "
   ]
  },
  {
   "cell_type": "code",
   "execution_count": 12,
   "metadata": {},
   "outputs": [
    {
     "name": "stdout",
     "output_type": "stream",
     "text": [
      "[17162, 25335, 44300, 61196]\n",
      "[19701, 36108, 45323, 63755]\n",
      "[21237, 37132, 46859, 59638]\n",
      "[27915, 41717, 53516, 67339]\n",
      "[11020, 57078, 57079, 57099, 58124, 80119]\n"
     ]
    }
   ],
   "source": [
    "plot_env_spec = False\n",
    "if plot_env_spec:\n",
    "    plt.plot(tps, filtered_sig(normalisation(signal), sr=sr, largeur_bande=largeur_bande), label='Signal normalisé filtré')\n",
    "    plt.plot(tps, spectral_envelope(filtered_sig(normalisation(signal), sr=sr, largeur_bande=largeur_bande), window_size=n_fft), label='Enveloppe spectrale')\n",
    "    plt.grid(True)\n",
    "    plt.xlabel('Temps (s)')\n",
    "    plt.ylabel('Energie')\n",
    "    plt.title('Energie cumulative')\n",
    "    plt.legend()\n",
    "    \n",
    "plt.close('all')   \n",
    "\n",
    "plot_fig = True\n",
    "# plt.close('all')\n",
    "for nbr_anche in range (5):\n",
    "    #LOAD DATA\n",
    "    dossier = 'mes_2024.04.19/'\n",
    "    nom_fichier = 'anche'\n",
    "    f=20\n",
    "    data = pd.read_table(dossier + nom_fichier + f'{nbr_anche+1}', sep='\\t', header=2).values\n",
    "    tps = data[:,0]\n",
    "    force = data[:,1]/S_force\n",
    "    p_int = (data[:,2])/S_mic_int\n",
    "    signal = p_int\n",
    "    \n",
    "    # Plot seuil\n",
    "    if plot_fig :\n",
    "        plt.figure()\n",
    "        # plt.plot(tps, filtered_sig(normalisation(signal), sr=sr, largeur_bande=largeur_bande), label='Signal normalisé filtré')\n",
    "        plt.plot(tps, spectral_envelope(filtered_sig(normalisation(signal), sr=sr, largeur_bande=largeur_bande), window_size=n_fft), label='Enveloppe spectrale')\n",
    "        plt.hlines(seuillage(signal, sr=sr, largeur_bande=largeur_bande, window_size=n_fft, facteur_std=f), tps[0], tps[-1], color='yellow', label='')\n",
    "        plt.xlabel('Temps')\n",
    "        plt.ylabel('Amplitude')\n",
    "        plt.title('Comparaison entre le signal initial et le signal filtré')\n",
    "        plt.legend()\n",
    "        plt.show()\n",
    "        \n",
    "        # Troncature des signaux\n",
    "        # tronquer = True\n",
    "        # if tronquer:\n",
    "        titres = ['pression croissante', 'pression décroissante']\n",
    "        idx_tr=[]\n",
    "        idx_tr, e_cum = troncature(signal=p_int, sr=sr, largeur_bande=100, window_size=n_fft, facteur_std=f)\n",
    "        \n",
    "        plt.figure()\n",
    "        plt.plot(tps[idx_tr[0]:idx_tr[1]], normalisation(p_int[idx_tr[0]:idx_tr[1]]), label='Enveloppe spectrale')\n",
    "        # plt.plot(tps[idx_tr[0]:idx_tr[1]], normalisation(e_cum[idx_tr[0]:idx_tr[1]]), label='somme cumulée des énergie')\n",
    "        plt.grid(True)\n",
    "        plt.xlabel('Temps (s)')\n",
    "        plt.ylabel('Energie')\n",
    "        plt.title('Energie cumulative')\n",
    "        plt.legend()\n",
    "\n",
    "        plt.figure()\n",
    "        plt.plot(tps[idx_tr[2]:idx_tr[-1]], normalisation(p_int[idx_tr[2]:idx_tr[-1]]), label='Enveloppe spectrale')\n",
    "        # plt.plot(tps[idx_tr[2]:idx_tr[-1]], normalisation(e_cum[idx_tr[2]:idx_tr[-1]]), label='somme cumulée des énergie')\n",
    "        plt.grid(True)\n",
    "        plt.xlabel('Temps (s)')\n",
    "        plt.ylabel('Energie')\n",
    "        plt.title('Energie cumulative')\n",
    "        plt.legend()"
   ]
  },
  {
   "cell_type": "markdown",
   "metadata": {},
   "source": [
    "### Spectrogramme des signaux en pression (microphone interne et externe)"
   ]
  },
  {
   "cell_type": "code",
   "execution_count": 13,
   "metadata": {},
   "outputs": [],
   "source": [
    "# Retourne les sepctrogramme sur la pression interne et externe en dB et les plot\n",
    "def plot_spectro(signal, n_fft, numero_anche):\n",
    "    # Spectrogramme\n",
    "    spectrogram = np.abs(librosa.stft(y=signal, n_fft=n_fft))\n",
    "    # Mise en dB\n",
    "    spectrogram_db = librosa.power_to_db(spectrogram**2, ref=p_ref**2)\n",
    "    \n",
    "    # Affichages des spectrogrammes\n",
    "    plt.figure()\n",
    "    plt.title(f'Sepctrogrammes \\nAnche n° {numero_anche}', fontsize=16)\n",
    "    \n",
    "    img = librosa.display.specshow(spectrogram_db, sr=sr, hop_length=hop_length, x_axis='time', y_axis='mel')\n",
    "    cbar = plt.colorbar(img, format='%+2.0f dB')\n",
    "    cbar.set_label('Amplitude (dB)')\n",
    "    plt.title('Pression interne au bec')\n",
    "\n",
    "    plt.tight_layout()\n",
    "    plt.show()\n",
    "    return spectrogram_db\n",
    "\n",
    "plot_spec = True\n",
    "if plot_spec:\n",
    "    plt.close('all')      \n",
    "    for i in range (nombre_anches):\n",
    "        spectro_db = plot_spectro(p_int, n_fft, i)\n"
   ]
  }
 ],
 "metadata": {
  "kernelspec": {
   "display_name": "Python 3",
   "language": "python",
   "name": "python3"
  },
  "language_info": {
   "codemirror_mode": {
    "name": "ipython",
    "version": 3
   },
   "file_extension": ".py",
   "mimetype": "text/x-python",
   "name": "python",
   "nbconvert_exporter": "python",
   "pygments_lexer": "ipython3",
   "version": "3.10.8"
  }
 },
 "nbformat": 4,
 "nbformat_minor": 2
}
